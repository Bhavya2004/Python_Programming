{
 "cells": [
  {
   "cell_type": "markdown",
   "metadata": {},
   "source": [
    "\n",
    "<a href='https://www.darshan.ac.in/'> <img src='https://www.darshan.ac.in/Content/media/DU_Logo.svg' width=\"250\" height=\"300\"/></a>\n",
    "<pre>\n",
    "<center><b><h1>Python Programming - 2101CS405</b></center>\n",
    "<center><b><h1>Lab - 3</b></center>    \n",
    "<pre>"
   ]
  },
  {
   "cell_type": "markdown",
   "metadata": {},
   "source": [
    "# for and while loop"
   ]
  },
  {
   "cell_type": "markdown",
   "metadata": {},
   "source": [
    "### 01) WAP to print 1 to 10"
   ]
  },
  {
   "cell_type": "code",
   "execution_count": 1,
   "metadata": {},
   "outputs": [
    {
     "name": "stdout",
     "output_type": "stream",
     "text": [
      "1\n",
      "2\n",
      "3\n",
      "4\n",
      "5\n",
      "6\n",
      "7\n",
      "8\n",
      "9\n",
      "10\n"
     ]
    }
   ],
   "source": [
    "for i in range(1,11):\n",
    "    print(i)"
   ]
  },
  {
   "cell_type": "markdown",
   "metadata": {},
   "source": [
    "### 02) WAP to print 1 to n"
   ]
  },
  {
   "cell_type": "code",
   "execution_count": 3,
   "metadata": {},
   "outputs": [
    {
     "name": "stdout",
     "output_type": "stream",
     "text": [
      "1\n",
      "2\n",
      "3\n",
      "4\n",
      "5\n",
      "6\n",
      "7\n",
      "8\n",
      "9\n",
      "10\n",
      "11\n",
      "12\n"
     ]
    }
   ],
   "source": [
    "n=int(input(\"Enter the value of n:\"))\n",
    "for i in range(1,n+1):\n",
    "    print(i)"
   ]
  },
  {
   "cell_type": "markdown",
   "metadata": {},
   "source": [
    "### 03) WAP to print odd numbers between 1 to n"
   ]
  },
  {
   "cell_type": "code",
   "execution_count": 5,
   "metadata": {},
   "outputs": [
    {
     "name": "stdout",
     "output_type": "stream",
     "text": [
      "odd numbers between 1 to 16 are:\n",
      "1\n",
      "3\n",
      "5\n",
      "7\n",
      "9\n",
      "11\n",
      "13\n",
      "15\n"
     ]
    }
   ],
   "source": [
    "n=int(input(\"Enter the value of n:\"))\n",
    "print(f\"odd numbers between 1 to {n} are:\")\n",
    "for i in range(1,n+1):\n",
    "    if i%2!=0:\n",
    "        print(i)"
   ]
  },
  {
   "cell_type": "markdown",
   "metadata": {},
   "source": [
    "### 04) WAP to print numbers between two given numbers which is divisible by 2 but not divisible by 3"
   ]
  },
  {
   "cell_type": "code",
   "execution_count": 12,
   "metadata": {},
   "outputs": [
    {
     "name": "stdout",
     "output_type": "stream",
     "text": [
      "numbers between 14 and 28 which are divisible by 2 but not 3 are:\n",
      "16\n",
      "20\n",
      "22\n",
      "26\n"
     ]
    }
   ],
   "source": [
    "n=int(input(\"Enter the initial value:\"))\n",
    "m=int(input(\"Enter the Final value:\"))\n",
    "print(f\"numbers between {n} and {m} which are divisible by 2 but not 3 are:\")\n",
    "for i in range(n+1,m):\n",
    "    if i%2==0 and i%3!=0:\n",
    "        print(i)"
   ]
  },
  {
   "cell_type": "markdown",
   "metadata": {},
   "source": [
    "### 05) WAP to print sum of 1 to n numbers"
   ]
  },
  {
   "cell_type": "code",
   "execution_count": 13,
   "metadata": {},
   "outputs": [
    {
     "name": "stdout",
     "output_type": "stream",
     "text": [
      "sum of 1 to 12 is:78\n"
     ]
    }
   ],
   "source": [
    "n=int(input(\"Enter the value of n:\"))\n",
    "sum=0\n",
    "for i in range(1,n+1):\n",
    "    sum=sum+i\n",
    "print(f\"sum of 1 to {n} is:{sum}\")"
   ]
  },
  {
   "cell_type": "markdown",
   "metadata": {},
   "source": [
    "### 06) WAP to print sum of series 1 + 4 + 9 + 16 + 25 + 36 + ...n"
   ]
  },
  {
   "cell_type": "code",
   "execution_count": 14,
   "metadata": {},
   "outputs": [
    {
     "name": "stdout",
     "output_type": "stream",
     "text": [
      "Sum of series 1+4+9+...+n upto 3 is: 14\n"
     ]
    }
   ],
   "source": [
    "n = int(input(\"Enter the value of n : \"))\n",
    "sum=0\n",
    "for i in range(1,n+1):\n",
    "    sum+=i*i\n",
    "print(f\"Sum of series 1+4+9+...+n upto {n} is: {sum}\")"
   ]
  },
  {
   "cell_type": "markdown",
   "metadata": {},
   "source": [
    "### 07) WAP to print sum of series 1 – 2 + 3 – 4 + 5 – 6 + 7 ... n"
   ]
  },
  {
   "cell_type": "code",
   "execution_count": 16,
   "metadata": {},
   "outputs": [
    {
     "name": "stdout",
     "output_type": "stream",
     "text": [
      "Sum of series 1-2+3-4+5-...n upto 4 is : -2\n"
     ]
    }
   ],
   "source": [
    "\n",
    "n = int(input(\"Enter the value of n : \"))\n",
    "sum=0\n",
    "for i in range(1,n+1):\n",
    "    if(i%2==0):\n",
    "        sum=sum-i\n",
    "    else:\n",
    "        sum=sum+i\n",
    "print(f\"Sum of series 1-2+3-4+5-...n upto {n} is : {sum}\")"
   ]
  },
  {
   "cell_type": "markdown",
   "metadata": {},
   "source": [
    "### 08) WAP to print multiplication table of given number."
   ]
  },
  {
   "cell_type": "code",
   "execution_count": 18,
   "metadata": {},
   "outputs": [
    {
     "name": "stdout",
     "output_type": "stream",
     "text": [
      "Multiplication Table of 29:\n",
      "29 x 1 = 29\n",
      "29 x 2 = 58\n",
      "29 x 3 = 87\n",
      "29 x 4 = 116\n",
      "29 x 5 = 145\n",
      "29 x 6 = 174\n",
      "29 x 7 = 203\n",
      "29 x 8 = 232\n",
      "29 x 9 = 261\n",
      "29 x 10 = 290\n"
     ]
    }
   ],
   "source": [
    "n = int(input(\"Enter the value of n : \"))\n",
    "print(f\"Multiplication Table of {n}:\")\n",
    "for i in range(1,11):\n",
    "    print(f\"{n} x {i} = {n*i}\")"
   ]
  },
  {
   "cell_type": "markdown",
   "metadata": {},
   "source": [
    "### 09) WAP to find factorial of the given number"
   ]
  },
  {
   "cell_type": "code",
   "execution_count": 19,
   "metadata": {},
   "outputs": [
    {
     "name": "stdout",
     "output_type": "stream",
     "text": [
      "Factorial of 7 is :5040\n"
     ]
    }
   ],
   "source": [
    "n = int(input(\"Enter the value of n : \"))\n",
    "fact=1\n",
    "for i in range(2,n+1):\n",
    "    fact*=i\n",
    "print(f\"Factorial of {n} is :{fact}\")"
   ]
  },
  {
   "cell_type": "markdown",
   "metadata": {},
   "source": [
    "### 10) WAP to find factors of the given number"
   ]
  },
  {
   "cell_type": "code",
   "execution_count": 20,
   "metadata": {},
   "outputs": [
    {
     "name": "stdout",
     "output_type": "stream",
     "text": [
      "Factors of 36 are : \n",
      "1\n",
      "2\n",
      "3\n",
      "4\n",
      "6\n",
      "9\n",
      "12\n",
      "18\n",
      "36\n"
     ]
    }
   ],
   "source": [
    "n = int(input(\"Enter the value of n : \"))\n",
    "print(f\"Factors of {n} are : \")\n",
    "for i in range(1,n+1):\n",
    "    if(n%i==0):\n",
    "        print(i)"
   ]
  },
  {
   "cell_type": "markdown",
   "metadata": {},
   "source": [
    "### 11) WAP to find whether the given number is prime or not."
   ]
  },
  {
   "cell_type": "code",
   "execution_count": 21,
   "metadata": {},
   "outputs": [
    {
     "name": "stdout",
     "output_type": "stream",
     "text": [
      "2001 is not a Prime Number\n"
     ]
    }
   ],
   "source": [
    "n = int(input(\"Enter the value of n : \"))\n",
    "flag=0\n",
    "for i in range(2,n):\n",
    "    if(n%i==0):\n",
    "        flag=1\n",
    "        break\n",
    "if(flag==0):\n",
    "    print(f\"{n} is a Prime Number\")\n",
    "else:\n",
    "    print(f\"{n} is not a Prime Number\")"
   ]
  },
  {
   "cell_type": "markdown",
   "metadata": {},
   "source": [
    "### 12) WAP to print sum of digits of given number"
   ]
  },
  {
   "cell_type": "code",
   "execution_count": 23,
   "metadata": {},
   "outputs": [
    {
     "name": "stdout",
     "output_type": "stream",
     "text": [
      "Sum of digits of 139 are:\n",
      "13\n"
     ]
    }
   ],
   "source": [
    "n = int(input(\"Enter the value of n : \"))\n",
    "sum=0\n",
    "print(f\"Sum of digits of {n} are:\")\n",
    "while (n != 0):\n",
    "        sum = sum + (n % 10)\n",
    "        n = n//10\n",
    "print(sum)        "
   ]
  },
  {
   "cell_type": "markdown",
   "metadata": {},
   "source": [
    "### 13) WAP to check whether the given number is palindrome or not"
   ]
  },
  {
   "cell_type": "code",
   "execution_count": 28,
   "metadata": {},
   "outputs": [
    {
     "name": "stdout",
     "output_type": "stream",
     "text": [
      "191\n",
      "The number is a palindrome number\n"
     ]
    }
   ],
   "source": [
    "n = int(input(\"Enter the value of n : \"))\n",
    "temp=n\n",
    "rev=0\n",
    "print(n)\n",
    "while(n>0):\n",
    "    dig=n%10\n",
    "    rev=rev*10+dig\n",
    "    n=n//10\n",
    "if(temp==rev):\n",
    "    print(\"The number is a palindrome number\")\n",
    "else:\n",
    "    print(\"The number is not a palindrome number\")"
   ]
  },
  {
   "cell_type": "markdown",
   "metadata": {},
   "source": [
    "### 01) WAP to check whether the given number is Armstrong or not."
   ]
  },
  {
   "cell_type": "code",
   "execution_count": 29,
   "metadata": {},
   "outputs": [
    {
     "name": "stdout",
     "output_type": "stream",
     "text": [
      "153 is an Armstrong number\n"
     ]
    }
   ],
   "source": [
    "n = int(input(\"Enter a number: \"))\n",
    "sum = 0\n",
    "temp = n\n",
    "while temp > 0:\n",
    "   digit = temp % 10\n",
    "   sum += digit ** 3\n",
    "   temp //= 10\n",
    "if n == sum:\n",
    "   print(n,\"is an Armstrong number\")\n",
    "else:\n",
    "   print(n,\"is not an Armstrong number\")\n"
   ]
  },
  {
   "cell_type": "markdown",
   "metadata": {},
   "source": [
    "### 02) WAP to find out prime numbers between given two numbers."
   ]
  },
  {
   "cell_type": "code",
   "execution_count": 31,
   "metadata": {},
   "outputs": [
    {
     "name": "stdout",
     "output_type": "stream",
     "text": [
      "Prime numbers between 26 and 78 are:\n",
      "29\n",
      "31\n",
      "37\n",
      "41\n",
      "43\n",
      "47\n",
      "53\n",
      "59\n",
      "61\n",
      "67\n",
      "71\n",
      "73\n"
     ]
    }
   ],
   "source": [
    "n=int(input(\"Enter the 1st value:\"))\n",
    "m=int(input(\"Enter the 2nd value:\"))\n",
    "print(f\"Prime numbers between {n} and {m} are:\")\n",
    "flag=0\n",
    "for i in range(n+1,m):\n",
    "    for j in range(2,i):\n",
    "        if(i%j==0):\n",
    "            flag=1\n",
    "            break\n",
    "    if(flag==0):\n",
    "        print(i)\n",
    "    else:\n",
    "        flag=0 "
   ]
  },
  {
   "cell_type": "markdown",
   "metadata": {},
   "source": [
    "### 03) WAP to calculate x^y without using any function."
   ]
  },
  {
   "cell_type": "code",
   "execution_count": 33,
   "metadata": {},
   "outputs": [
    {
     "name": "stdout",
     "output_type": "stream",
     "text": [
      "2^8 equals : 256\n"
     ]
    }
   ],
   "source": [
    "x = int(input(\"Enter the value of x : \"))\n",
    "y = int(input(\"Enter the value of y : \"))\n",
    "pow=x\n",
    "for i in range(2,y+1):\n",
    "    pow*=x\n",
    "print(f\"{x}^{y} equals : {pow}\")"
   ]
  },
  {
   "cell_type": "markdown",
   "metadata": {},
   "source": [
    "### 04) WAP to check whether the given number is perfect or not.\n",
    "[Sum of factors including 1 excluding number itself]"
   ]
  },
  {
   "cell_type": "code",
   "execution_count": 35,
   "metadata": {},
   "outputs": [
    {
     "name": "stdout",
     "output_type": "stream",
     "text": [
      "The entered number 6 is a perfect number\n"
     ]
    }
   ],
   "source": [
    "#A perfect number is a number in which the sum of the divisors/factors of a number is equal to the number.\n",
    "n=int(input(\"Enter the value of n:\")) \n",
    "sum=0  \n",
    "for i in range(1,n):  \n",
    "    if (n%i==0):  \n",
    "        sum=sum+i  \n",
    "if(sum==n):  \n",
    "    print(f\"The entered number {n} is a perfect number\")  \n",
    "else:  \n",
    "    print(f\"The entered number {n} is not a perfect number\") "
   ]
  },
  {
   "cell_type": "markdown",
   "metadata": {},
   "source": [
    "### 05) WAP to find the sum of 1 + (1+2) + (1+2+3) + (1+2+3+4)+...+(1+2+3+4+....+n)"
   ]
  },
  {
   "cell_type": "code",
   "execution_count": 36,
   "metadata": {},
   "outputs": [
    {
     "name": "stdout",
     "output_type": "stream",
     "text": [
      "sum of series 1 + (1+2) + (1+2+3) + (1+2+3+4) +...n upto 3 is : 10\n"
     ]
    }
   ],
   "source": [
    "n = int(input(\"Enter the value of n : \"))\n",
    "sum=0\n",
    "for i in range(1,n+1):\n",
    "    for i in range(1,i+1):\n",
    "        sum+=i\n",
    "print(f\"sum of series 1 + (1+2) + (1+2+3) + (1+2+3+4) +...n upto {n} is : {sum}\")"
   ]
  },
  {
   "cell_type": "markdown",
   "metadata": {},
   "source": [
    "### 06) WAP to print Multiplication Table up to n"
   ]
  },
  {
   "cell_type": "code",
   "execution_count": 41,
   "metadata": {},
   "outputs": [
    {
     "name": "stdout",
     "output_type": "stream",
     "text": [
      "The Multiplication Table of:  1\n",
      "1 x 1 = 1\n",
      "1 x 2 = 2\n",
      "1 x 3 = 3\n",
      "1 x 4 = 4\n",
      "1 x 5 = 5\n",
      "1 x 6 = 6\n",
      "1 x 7 = 7\n",
      "1 x 8 = 8\n",
      "1 x 9 = 9\n",
      "1 x 10 = 10\n",
      "The Multiplication Table of:  2\n",
      "2 x 1 = 2\n",
      "2 x 2 = 4\n",
      "2 x 3 = 6\n",
      "2 x 4 = 8\n",
      "2 x 5 = 10\n",
      "2 x 6 = 12\n",
      "2 x 7 = 14\n",
      "2 x 8 = 16\n",
      "2 x 9 = 18\n",
      "2 x 10 = 20\n",
      "The Multiplication Table of:  3\n",
      "3 x 1 = 3\n",
      "3 x 2 = 6\n",
      "3 x 3 = 9\n",
      "3 x 4 = 12\n",
      "3 x 5 = 15\n",
      "3 x 6 = 18\n",
      "3 x 7 = 21\n",
      "3 x 8 = 24\n",
      "3 x 9 = 27\n",
      "3 x 10 = 30\n"
     ]
    }
   ],
   "source": [
    "n = int(input (\"Enter the number to print the multiplication table of: \"))            \n",
    "# print (\"The Multiplication Table of: \", n)    \n",
    "for i in range(1, n+1):    \n",
    "    print (\"The Multiplication Table of: \", i)   \n",
    "    for j in range(1,11):\n",
    "         print(f\"{i} x {j} = {i*j}\")  \n",
    "       \n",
    "      "
   ]
  }
 ],
 "metadata": {
  "kernelspec": {
   "display_name": "Python 3",
   "language": "python",
   "name": "python3"
  },
  "language_info": {
   "codemirror_mode": {
    "name": "ipython",
    "version": 3
   },
   "file_extension": ".py",
   "mimetype": "text/x-python",
   "name": "python",
   "nbconvert_exporter": "python",
   "pygments_lexer": "ipython3",
   "version": "3.11.0"
  },
  "vscode": {
   "interpreter": {
    "hash": "b98f472bb8ba48098397e3b897b5be76f7bf0e62d98845cdb0e8066dc5677259"
   }
  }
 },
 "nbformat": 4,
 "nbformat_minor": 4
}
