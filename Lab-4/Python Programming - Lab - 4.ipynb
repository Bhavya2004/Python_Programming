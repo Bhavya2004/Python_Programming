{
 "cells": [
  {
   "cell_type": "markdown",
   "metadata": {},
   "source": [
    "\n",
    "<a href='https://www.darshan.ac.in/'> <img src='https://www.darshan.ac.in/Content/media/DU_Logo.svg' width=\"250\" height=\"300\"/></a>\n",
    "<pre>\n",
    "<center><b><h1>Python Programming - 2101CS405</b></center>\n",
    "<center><b><h1>Lab - 4</b></center>    \n",
    "<pre>"
   ]
  },
  {
   "cell_type": "markdown",
   "metadata": {},
   "source": [
    "# String"
   ]
  },
  {
   "cell_type": "markdown",
   "metadata": {},
   "source": [
    "### 01) WAP to check given string is palindrome or not."
   ]
  },
  {
   "cell_type": "code",
   "execution_count": 2,
   "metadata": {},
   "outputs": [
    {
     "name": "stdout",
     "output_type": "stream",
     "text": [
      "Palindrome string\n"
     ]
    }
   ],
   "source": [
    "a=input(\"Enter your string:\")\n",
    "b=a[::-1]\n",
    "if a ==b:\n",
    "    print(\"Palindrome string\")\n",
    "else:\n",
    "    print(\"Not a palindrome string\")"
   ]
  },
  {
   "cell_type": "markdown",
   "metadata": {},
   "source": [
    "### 02) WAP to reverse the words in given string."
   ]
  },
  {
   "cell_type": "code",
   "execution_count": 5,
   "metadata": {},
   "outputs": [
    {
     "name": "stdout",
     "output_type": "stream",
     "text": [
      "Rajkot University Darshan\n"
     ]
    }
   ],
   "source": [
    "a=input(\"Enter your string:\")\n",
    "b=a.split()[::-1]\n",
    "\n",
    "print(\" \".join(b))"
   ]
  },
  {
   "cell_type": "markdown",
   "metadata": {},
   "source": [
    "### 03) WAP to remove ith character from given string"
   ]
  },
  {
   "cell_type": "code",
   "execution_count": 9,
   "metadata": {},
   "outputs": [
    {
     "name": "stdout",
     "output_type": "stream",
     "text": [
      "Dashan University Rajkot\n"
     ]
    }
   ],
   "source": [
    "a=input(\"Enter your string:\")\n",
    "b=int(input(\"Enter the index of element to be removed:\"))\n",
    "\n",
    "for i in range(len(a)):\n",
    "    if i == b:\n",
    "        ans=a.replace(a[b],\"\",1)\n",
    "print(ans)\n"
   ]
  },
  {
   "cell_type": "markdown",
   "metadata": {},
   "source": [
    "### 04) WAP to find length of String without using len function."
   ]
  },
  {
   "cell_type": "code",
   "execution_count": 11,
   "metadata": {},
   "outputs": [
    {
     "name": "stdout",
     "output_type": "stream",
     "text": [
      "25\n"
     ]
    }
   ],
   "source": [
    "a=input(\"Enter your string:\")\n",
    "count=0\n",
    "\n",
    "for i in a:\n",
    "    count+=1\n",
    "\n",
    "print(count)"
   ]
  },
  {
   "cell_type": "markdown",
   "metadata": {},
   "source": [
    "### 05) WAP to print even length word in string."
   ]
  },
  {
   "cell_type": "code",
   "execution_count": 12,
   "metadata": {},
   "outputs": [
    {
     "name": "stdout",
     "output_type": "stream",
     "text": [
      "University\n",
      "Rajkot\n"
     ]
    }
   ],
   "source": [
    "a=input(\"Enter your string:\")\n",
    "b=a.split(\" \")\n",
    "\n",
    "for i in b:\n",
    "    if len(i)%2==0:\n",
    "        print(i)"
   ]
  },
  {
   "cell_type": "markdown",
   "metadata": {},
   "source": [
    "### 06) WAP to count numbers of vowels in given string."
   ]
  },
  {
   "cell_type": "code",
   "execution_count": 13,
   "metadata": {},
   "outputs": [
    {
     "name": "stdout",
     "output_type": "stream",
     "text": [
      "8\n"
     ]
    }
   ],
   "source": [
    "a=input(\"Enter your string:\")\n",
    "vowels=('a','e','i','o','u')\n",
    "count=0\n",
    " \n",
    "for i in a.lower():\n",
    "    if i in vowels:\n",
    "        count+=1\n",
    "\n",
    "print(count)\n"
   ]
  },
  {
   "cell_type": "markdown",
   "metadata": {},
   "source": [
    "### 07) WAP to convert given array to string."
   ]
  },
  {
   "cell_type": "code",
   "execution_count": 15,
   "metadata": {},
   "outputs": [
    {
     "data": {
      "text/plain": [
       "'Darshan University - Rajkot'"
      ]
     },
     "execution_count": 15,
     "metadata": {},
     "output_type": "execute_result"
    }
   ],
   "source": [
    "list=[\"Darshan\",\"University\",\"-\",\"Rajkot\"]\n",
    "\n",
    "' '.join(list)"
   ]
  },
  {
   "cell_type": "markdown",
   "metadata": {},
   "source": [
    "### 01) WAP to find out duplicate characters in given string."
   ]
  },
  {
   "cell_type": "code",
   "execution_count": 15,
   "metadata": {},
   "outputs": [
    {
     "name": "stdout",
     "output_type": "stream",
     "text": [
      "Enter your string:malayalam\n",
      "m a l\n"
     ]
    }
   ],
   "source": [
    "a=input(\"Enter your string:\")\n",
    "x=[]\n",
    "\n",
    "for i in a:\n",
    "    if i not in x and a.count(i)>1:\n",
    "        x.append(i)\n",
    "        \n",
    "print(\" \".join(x))\n",
    "\n"
   ]
  },
  {
   "cell_type": "markdown",
   "metadata": {},
   "source": [
    "### 02) WAP to capitalize the first and last character of each word in a string."
   ]
  },
  {
   "cell_type": "code",
   "execution_count": 17,
   "metadata": {},
   "outputs": [
    {
     "name": "stdout",
     "output_type": "stream",
     "text": [
      "Enter your string:darshan university rajkot\n",
      "['darshan', 'university', 'rajkot']\n",
      "DarshaN UniversitY RajkoT "
     ]
    }
   ],
   "source": [
    "a=input(\"Enter your string:\").split()\n",
    "print(a)\n",
    "\n",
    "for i in a:\n",
    "    print(i[0].upper()+i[1:-1]+i[-1].upper(),end=\" \")"
   ]
  },
  {
   "cell_type": "markdown",
   "metadata": {},
   "source": [
    "### 03) WAP to find Maximum frequency character in String."
   ]
  },
  {
   "cell_type": "code",
   "execution_count": 19,
   "metadata": {},
   "outputs": [
    {
     "name": "stdout",
     "output_type": "stream",
     "text": [
      "Enter your string: darshan\n",
      "2\n"
     ]
    }
   ],
   "source": [
    "a=input(\"Enter your string: \")\n",
    "x=[]\n",
    "\n",
    "for i in a:\n",
    "    if i == \" \":#ignore the space \n",
    "        continue\n",
    "    cnt=a.count(i)\n",
    "    x.append(cnt)\n",
    "print(max(x))"
   ]
  },
  {
   "cell_type": "markdown",
   "metadata": {},
   "source": [
    " 04) WAP to find Minimum frequency character in String."
   ]
  },
  {
   "cell_type": "code",
   "execution_count": 20,
   "metadata": {},
   "outputs": [
    {
     "name": "stdout",
     "output_type": "stream",
     "text": [
      "Enter your string: darshan\n",
      "1\n"
     ]
    }
   ],
   "source": [
    "a=input(\"Enter your string: \")\n",
    "x=[]\n",
    "\n",
    "for i in a:\n",
    "    if i == \" \":#ignore the space \n",
    "        continue\n",
    "    cnt=a.count(i)\n",
    "    x.append(cnt)\n",
    "print(min(x))"
   ]
  },
  {
   "cell_type": "markdown",
   "metadata": {},
   "source": [
    "### 05) WAP to check if a given string is binary string or not"
   ]
  },
  {
   "cell_type": "code",
   "execution_count": 29,
   "metadata": {},
   "outputs": [
    {
     "name": "stdout",
     "output_type": "stream",
     "text": [
      "Enter your string: darshan 0101\n",
      "Binary String\n"
     ]
    }
   ],
   "source": [
    "a=input(\"Enter your string: \")\n",
    "flag=0\n",
    "\n",
    "for i in a:\n",
    "    if i=='0' or i=='1' or i==\" \":\n",
    "        flag=1\n",
    "\n",
    "if flag == 1:\n",
    "    print(\"Binary String\")\n",
    "else:\n",
    "    print(\"Not Binary\")"
   ]
  },
  {
   "cell_type": "code",
   "execution_count": null,
   "metadata": {},
   "outputs": [],
   "source": []
  },
  {
   "cell_type": "code",
   "execution_count": null,
   "metadata": {},
   "outputs": [],
   "source": [
    "\n"
   ]
  }
 ],
 "metadata": {
  "kernelspec": {
   "display_name": "Python 3 (ipykernel)",
   "language": "python",
   "name": "python3"
  },
  "language_info": {
   "codemirror_mode": {
    "name": "ipython",
    "version": 3
   },
   "file_extension": ".py",
   "mimetype": "text/x-python",
   "name": "python",
   "nbconvert_exporter": "python",
   "pygments_lexer": "ipython3",
   "version": "3.9.13"
  },
  "vscode": {
   "interpreter": {
    "hash": "ba37d69516b96b2df66115ef342e83722e1a1518f5d2e0ee41eb08141fa2fe2a"
   }
  }
 },
 "nbformat": 4,
 "nbformat_minor": 4
}
