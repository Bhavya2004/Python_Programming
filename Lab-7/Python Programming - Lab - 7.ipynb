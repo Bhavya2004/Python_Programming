{
 "cells": [
  {
   "cell_type": "markdown",
   "metadata": {},
   "source": [
    "<a href='https://www.darshan.ac.in/'> <img src='https://www.darshan.ac.in/Content/media/DU_Logo.svg' width=\"250\" height=\"300\"/></a>\n",
    "<pre>\n",
    "<center><b><h1>Python Programming - 2101CS405</b></center>\n",
    "<center><b><h1>Lab - 7</b></center>    \n",
    "<pre>"
   ]
  },
  {
   "cell_type": "markdown",
   "metadata": {},
   "source": [
    "# Functions"
   ]
  },
  {
   "cell_type": "markdown",
   "metadata": {},
   "source": [
    "### 01) WAP to count simple interest using function."
   ]
  },
  {
   "cell_type": "code",
   "execution_count": 4,
   "metadata": {},
   "outputs": [
    {
     "name": "stdout",
     "output_type": "stream",
     "text": [
      "The amount is  1200\n",
      "The number of years are  2\n",
      "The rate of interest is  2\n",
      "The simple interest is: 48.0\n"
     ]
    }
   ],
   "source": [
    "def SI(Amount,Year,Rate):\n",
    "    \n",
    "    print('The amount is ',Amount)\n",
    "    print('The number of years are ',Year)\n",
    "    print('The rate of interest is ',Rate)\n",
    "    simple_interest = (Amount*Year*Rate)/100\n",
    "    print(\"The simple interest is:\", simple_interest)\n",
    "\n",
    "SI(1200,2,2)\n",
    "    \n",
    "\n"
   ]
  },
  {
   "cell_type": "markdown",
   "metadata": {},
   "source": [
    "### 02) WAP that defines a function to add first n numbers."
   ]
  },
  {
   "cell_type": "code",
   "execution_count": 9,
   "metadata": {
    "scrolled": true
   },
   "outputs": [
    {
     "name": "stdout",
     "output_type": "stream",
     "text": [
      "Enter the values to add upto:5\n",
      "Sum of your numbers is:  15\n"
     ]
    }
   ],
   "source": [
    "def findSum(n) :\n",
    "    sum=0\n",
    "    while (n >= 0):\n",
    "        sum += n\n",
    "        n-=1\n",
    "    print('Sum of your numbers is: ', sum )\n",
    "\n",
    "n=int(input('Enter the values to add upto:'))\n",
    "findSum(n)"
   ]
  },
  {
   "cell_type": "markdown",
   "metadata": {},
   "source": [
    " 03) WAP to find maximum number from given two numbers using function."
   ]
  },
  {
   "cell_type": "code",
   "execution_count": 10,
   "metadata": {},
   "outputs": [
    {
     "name": "stdout",
     "output_type": "stream",
     "text": [
      "Enter the value of a:15\n",
      "Enter the value of b:26\n"
     ]
    },
    {
     "data": {
      "text/plain": [
       "26"
      ]
     },
     "execution_count": 10,
     "metadata": {},
     "output_type": "execute_result"
    }
   ],
   "source": [
    "def maximum(a,b):\n",
    "    return max(a,b)\n",
    "a=int(input('Enter the value of a:'))\n",
    "b=int(input('Enter the value of b:'))\n",
    "maximum(a,b)"
   ]
  },
  {
   "cell_type": "markdown",
   "metadata": {},
   "source": [
    "### 04) WAP that defines a function which returns 1 if the number is prime otherwise return 0."
   ]
  },
  {
   "cell_type": "code",
   "execution_count": 21,
   "metadata": {},
   "outputs": [
    {
     "data": {
      "text/plain": [
       "0"
      ]
     },
     "execution_count": 21,
     "metadata": {},
     "output_type": "execute_result"
    }
   ],
   "source": [
    "def prime(n):\n",
    "    if n > 1:\n",
    "        for i in range(2, int(n/2)+1):\n",
    "            if (n % i) == 0:\n",
    "                return 0\n",
    "#                 print(n, \"is not a prime number\")\n",
    "                break\n",
    "        else:\n",
    "            return 1\n",
    "#             print(n, \"is a prime number\")\n",
    "    else:\n",
    "        return 0\n",
    "#         print(n, \"is not a prime number\")\n",
    "        \n",
    "prime(15)"
   ]
  },
  {
   "cell_type": "markdown",
   "metadata": {},
   "source": [
    "### 05) Write a function called primes that takes an integer value as an argument and returns a list of all prime numbers up to that number."
   ]
  },
  {
   "cell_type": "code",
   "execution_count": 27,
   "metadata": {},
   "outputs": [
    {
     "name": "stdout",
     "output_type": "stream",
     "text": [
      "[2, 3, 5, 7, 11, 13]\n"
     ]
    },
    {
     "data": {
      "text/plain": [
       "6"
      ]
     },
     "execution_count": 27,
     "metadata": {},
     "output_type": "execute_result"
    }
   ],
   "source": [
    "def primes(num):\n",
    "    li=[2]\n",
    "    for n in range(3,num+1):\n",
    "        flag=True\n",
    "        for i in li:\n",
    "            if(n%i == 0):\n",
    "                flag=False\n",
    "        if flag:\n",
    "            li.append(n)\n",
    "    print (li)\n",
    "    return len(li)\n",
    "\n",
    "primes(15)"
   ]
  },
  {
   "cell_type": "markdown",
   "metadata": {},
   "source": [
    "### 06) WAP to generate Fibonacci series of N given number using function name fibbo. (e.g. 0 1 1 2 3 5 8...)"
   ]
  },
  {
   "cell_type": "code",
   "execution_count": 30,
   "metadata": {},
   "outputs": [
    {
     "name": "stdout",
     "output_type": "stream",
     "text": [
      "How many terms? 5\n",
      "Fibonacci sequence:\n",
      "0\n",
      "1\n",
      "1\n",
      "2\n",
      "3\n"
     ]
    }
   ],
   "source": [
    "def fibbo(n):\n",
    "    n1, n2 = 0, 1\n",
    "    count = 0\n",
    "    if n < 0:\n",
    "        print(\"Incorrect input\")\n",
    "    elif n == 1:\n",
    "        print(\"Fibonacci sequence upto\",n,\":\")\n",
    "        print(n1)\n",
    "    else:\n",
    "        print(\"Fibonacci sequence:\")\n",
    "        while count < n:\n",
    "            \n",
    "            print(n1)\n",
    "            nth = n1 + n2\n",
    "            # update values\n",
    "            n1 = n2\n",
    "            n2 = nth\n",
    "            count += 1\n",
    "\n",
    "n = int(input(\"How many terms? \"))\n",
    "fibbo(n)"
   ]
  },
  {
   "cell_type": "markdown",
   "metadata": {},
   "source": [
    "### 07) WAP to find the factorial of a given number using recursion."
   ]
  },
  {
   "cell_type": "code",
   "execution_count": 31,
   "metadata": {},
   "outputs": [
    {
     "name": "stdout",
     "output_type": "stream",
     "text": [
      "Enter your number:5\n"
     ]
    },
    {
     "data": {
      "text/plain": [
       "120"
      ]
     },
     "execution_count": 31,
     "metadata": {},
     "output_type": "execute_result"
    }
   ],
   "source": [
    "def factorial(n):\n",
    "    if n == 2:\n",
    "        return 2\n",
    "    else:\n",
    "        return n * factorial(n-1)\n",
    "n=int(input('Enter your number:'))\n",
    "factorial(n)"
   ]
  },
  {
   "cell_type": "markdown",
   "metadata": {},
   "source": [
    "### 08) WAP to implement simple calculator using lamda function."
   ]
  },
  {
   "cell_type": "code",
   "execution_count": 1,
   "metadata": {},
   "outputs": [
    {
     "name": "stdout",
     "output_type": "stream",
     "text": [
      "3\n",
      "-1\n",
      "2\n",
      "0.5\n",
      "operation not valid\n"
     ]
    }
   ],
   "source": [
    "calculator=lambda a,b,op: a+b if (op==\"+\") else a-b if (op==\"-\") else a*b if (op==\"*\") else a/b if (op==\"/\") else \"operation not valid\"\n",
    "print(calculator(1,2,\"+\"))\n",
    "print(calculator(1,2,\"-\"))\n",
    "print(calculator(1,2,\"*\"))\n",
    "print(calculator(1,2,\"/\"))\n",
    "print(calculator(1,2,\".\"))"
   ]
  },
  {
   "cell_type": "markdown",
   "metadata": {},
   "source": [
    "### 09)Write a Python program that accepts a hyphen-separated sequence of words as input and prints the words in a hyphen-separated sequence after sorting them alphabetically\n",
    "Sample Items : green-red-yellow-black-white <br>\n",
    "Expected Result : black-green-red-white-yellow"
   ]
  },
  {
   "cell_type": "code",
   "execution_count": 2,
   "metadata": {},
   "outputs": [
    {
     "data": {
      "text/plain": [
       "'black-green-red-white-yellow'"
      ]
     },
     "execution_count": 2,
     "metadata": {},
     "output_type": "execute_result"
    }
   ],
   "source": [
    "def sorting(str):\n",
    "    a=str.split(\"-\")\n",
    "    a.sort()\n",
    "    return\"-\".join(a)\n",
    "sorting(\"green-red-yellow-black-white\")"
   ]
  },
  {
   "cell_type": "markdown",
   "metadata": {},
   "source": [
    "### 10) Write a python program to implement all function arguments type\n",
    "Positional arguments <Br>\n",
    "Default argument <Br>\n",
    "Keyword arguments (named arguments) <Br>\n",
    "Arbitrary arguments (variable-length arguments args and kwargs)"
   ]
  },
  {
   "cell_type": "code",
   "execution_count": 3,
   "metadata": {},
   "outputs": [
    {
     "name": "stdout",
     "output_type": "stream",
     "text": [
      "Positional arg 'fun1(3,5)' :  4\n",
      "Default arg 'fun1(b=3,a=5)' :  3\n",
      "Keyword arg 'fun1(b=3,a=5)' :  11\n"
     ]
    }
   ],
   "source": [
    "fun1=lambda a,b,c=5:a-b+c\n",
    "print(\"Positional arg 'fun1(3,5)' : \",fun1(3,5,c=6))\n",
    "print(\"Default arg 'fun1(b=3,a=5)' : \",fun1(3,5))\n",
    "print(\"Keyword arg 'fun1(b=3,a=5)' : \",fun1(b=3,a=5,c=9))"
   ]
  },
  {
   "cell_type": "code",
   "execution_count": null,
   "metadata": {},
   "outputs": [],
   "source": []
  },
  {
   "cell_type": "markdown",
   "metadata": {},
   "source": [
    "### 01) WAP to calculate power of a number using recursion."
   ]
  },
  {
   "cell_type": "code",
   "execution_count": 37,
   "metadata": {},
   "outputs": [
    {
     "name": "stdout",
     "output_type": "stream",
     "text": [
      "Enter base:5\n",
      "Enter power:4\n"
     ]
    },
    {
     "data": {
      "text/plain": [
       "625"
      ]
     },
     "execution_count": 37,
     "metadata": {},
     "output_type": "execute_result"
    }
   ],
   "source": [
    "def power_recursive(base,power):\n",
    "    if power!=0:\n",
    "        return base *power_recursive(base,power-1)\n",
    "    else:\n",
    "        return 1\n",
    "base=int(input('Enter base:'))\n",
    "power=int(input('Enter power:'))\n",
    "power_recursive(base,power)"
   ]
  },
  {
   "cell_type": "markdown",
   "metadata": {},
   "source": [
    "### 02) WAP to count digits of a number using recursion."
   ]
  },
  {
   "cell_type": "code",
   "execution_count": 39,
   "metadata": {},
   "outputs": [
    {
     "name": "stdout",
     "output_type": "stream",
     "text": [
      "Enter your number:145\n",
      "3\n"
     ]
    }
   ],
   "source": [
    "def count_digits(n):\n",
    "    if n < 10:\n",
    "        return 1\n",
    "    else:\n",
    "        return 1 + count_digits(n/10)\n",
    "    \n",
    "n=int(input('Enter your number:'))\n",
    "print(count_digits(n))"
   ]
  },
  {
   "cell_type": "markdown",
   "metadata": {},
   "source": [
    "### 03) WAP to reverse an integer number using recursion."
   ]
  },
  {
   "cell_type": "code",
   "execution_count": 45,
   "metadata": {},
   "outputs": [
    {
     "name": "stdout",
     "output_type": "stream",
     "text": [
      "Enter a number:4897\n",
      "\n",
      "Reverse of 4897 is 7984\n"
     ]
    }
   ],
   "source": [
    "def rev(n, r):\n",
    "    if n==0:\n",
    "        return r\n",
    "    else:\n",
    "        return rev(int(n/10), (n%10)+(r*10))\n",
    "\n",
    "num = int(input('Enter a number:'))\n",
    "\n",
    "print(\"\\nReverse of \" +str(num)+ \" is \" +str(rev(num, 0))) "
   ]
  },
  {
   "cell_type": "markdown",
   "metadata": {},
   "source": [
    "### 04) WAP to convert decimal number into binary using recursion."
   ]
  },
  {
   "cell_type": "code",
   "execution_count": 4,
   "metadata": {},
   "outputs": [
    {
     "name": "stdout",
     "output_type": "stream",
     "text": [
      "1010\n"
     ]
    }
   ],
   "source": [
    "def find( decimal_num ):\n",
    "    if decimal_num == 0:\n",
    "        return 0\n",
    "    else:\n",
    "        return (decimal_num % 2 + 10 * find(int(decimal_num // 2)))\n",
    "decimal_num = 10\n",
    "print(find(decimal_num))\n",
    " "
   ]
  }
 ],
 "metadata": {
  "kernelspec": {
   "display_name": "Python 3 (ipykernel)",
   "language": "python",
   "name": "python3"
  },
  "language_info": {
   "codemirror_mode": {
    "name": "ipython",
    "version": 3
   },
   "file_extension": ".py",
   "mimetype": "text/x-python",
   "name": "python",
   "nbconvert_exporter": "python",
   "pygments_lexer": "ipython3",
   "version": "3.9.13"
  }
 },
 "nbformat": 4,
 "nbformat_minor": 4
}
