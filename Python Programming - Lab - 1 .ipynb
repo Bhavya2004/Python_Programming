{
 "cells": [
  {
   "cell_type": "markdown",
   "metadata": {},
   "source": [
    "<a href='https://www.darshan.ac.in/'> <img src='https://www.darshan.ac.in/Content/media/DU_Logo.svg' width=\"250\" height=\"300\"/></a>\n",
    "<pre>\n",
    "<center><b><h1>Python Programming - 2101CS405</b></center>\n",
    "<center><b><h1>Lab - 1</b></center>    \n",
    "<pre>"
   ]
  },
  {
   "cell_type": "markdown",
   "metadata": {},
   "source": [
    "### 01) WAP to print “Hello World”"
   ]
  },
  {
   "cell_type": "code",
   "execution_count": 2,
   "metadata": {},
   "outputs": [
    {
     "name": "stdout",
     "output_type": "stream",
     "text": [
      "Hello World\n"
     ]
    }
   ],
   "source": [
    "print(\"Hello World\")"
   ]
  },
  {
   "cell_type": "markdown",
   "metadata": {},
   "source": [
    "### 02) WAP to print your address i) using single print ii) using multiple print"
   ]
  },
  {
   "cell_type": "code",
   "execution_count": 3,
   "metadata": {},
   "outputs": [
    {
     "name": "stdout",
     "output_type": "stream",
     "text": [
      "Darshan University \n",
      " Rajkot-Morbi Highway \n",
      " Hadala-rajkot\n",
      "Darshan University\n",
      "Rajkot-Morbi Highway\n",
      "Hadala-rajkot\n"
     ]
    }
   ],
   "source": [
    "print(\"Darshan University \\n Rajkot-Morbi Highway \\n Hadala-rajkot\")\n",
    "\n",
    "print(\"Darshan University\")\n",
    "print(\"Rajkot-Morbi Highway\")\n",
    "print(\"Hadala-rajkot\")"
   ]
  },
  {
   "cell_type": "markdown",
   "metadata": {},
   "source": [
    "### 03) WAP to print addition of 2 numbers (without input function)"
   ]
  },
  {
   "cell_type": "code",
   "execution_count": 4,
   "metadata": {},
   "outputs": [
    {
     "name": "stdout",
     "output_type": "stream",
     "text": [
      "Addition =  150\n"
     ]
    }
   ],
   "source": [
    "a=50\n",
    "b=100\n",
    "print(\"Addition = \",a+b)"
   ]
  },
  {
   "cell_type": "markdown",
   "metadata": {},
   "source": [
    "### 04) WAP to calculate and print average of 2 numbers (without input function)"
   ]
  },
  {
   "cell_type": "code",
   "execution_count": 5,
   "metadata": {},
   "outputs": [
    {
     "name": "stdout",
     "output_type": "stream",
     "text": [
      "Average of your number is:  132.5\n"
     ]
    }
   ],
   "source": [
    "a = 205\n",
    "b = 60\n",
    "print(\"Average of your number is: \", (a+b)/2)"
   ]
  },
  {
   "cell_type": "markdown",
   "metadata": {},
   "source": [
    "### 05) WAP to add two number entered by user."
   ]
  },
  {
   "cell_type": "code",
   "execution_count": 6,
   "metadata": {},
   "outputs": [
    {
     "name": "stdout",
     "output_type": "stream",
     "text": [
      "Addition of both the number is = 55\n"
     ]
    }
   ],
   "source": [
    "a = int(input(\"Enter your 1st number : \"))\n",
    "b = int(input(\"Enter your 2nd number : \"))\n",
    "print(\"Addition of both the number is =\",a+b)"
   ]
  },
  {
   "cell_type": "markdown",
   "metadata": {},
   "source": [
    "### 06) WAP to calculate simple interest."
   ]
  },
  {
   "cell_type": "code",
   "execution_count": 7,
   "metadata": {},
   "outputs": [
    {
     "name": "stdout",
     "output_type": "stream",
     "text": [
      "Simple Interest :  400.5\n"
     ]
    }
   ],
   "source": [
    "p = int(input(\"Enter the Principal Amount : \"))\n",
    "r = int(input(\"Enter the Rate  : \"))\n",
    "n = int(input(\"Enter the Time : \"))\n",
    "print(\"Simple Interest : \", (p*r*n)/100)"
   ]
  },
  {
   "cell_type": "markdown",
   "metadata": {},
   "source": [
    "### 07) WAP Calculate Area and Circumfrence of Circle"
   ]
  },
  {
   "cell_type": "code",
   "execution_count": 8,
   "metadata": {},
   "outputs": [
    {
     "name": "stdout",
     "output_type": "stream",
     "text": [
      "Area = 9156.24\n",
      "Circumference = 339.12\n"
     ]
    }
   ],
   "source": [
    "r = int(input(\"Enter radius : \"))\n",
    "\n",
    "print(\"Area =\",(3.14*r*r))\n",
    "print(\"Circumference =\",(2*3.14*r))"
   ]
  },
  {
   "cell_type": "markdown",
   "metadata": {},
   "source": [
    "### 08) WAP to print Multiplication table of given number without using loops."
   ]
  },
  {
   "cell_type": "code",
   "execution_count": 9,
   "metadata": {},
   "outputs": [
    {
     "name": "stdout",
     "output_type": "stream",
     "text": [
      "7 * 1 = 7\n",
      "7 * 2 = 14\n",
      "7 * 3 = 21\n",
      "7 * 4 = 28\n",
      "7 * 5 = 35\n",
      "7 * 6 = 42\n",
      "7 * 7 = 49\n",
      "7 * 8 = 56\n",
      "7 * 9 = 63\n",
      "7 * 10 = 70\n"
     ]
    }
   ],
   "source": [
    "n = int(input(\"Enter n : \"))\n",
    "\n",
    "print(n, \"*\", 1, \"=\", n * 1)\n",
    "print(n, \"*\", 2, \"=\", n * 2)\n",
    "print(n, \"*\", 3, \"=\", n * 3)\n",
    "print(n, \"*\", 4, \"=\", n * 4)\n",
    "print(n, \"*\", 5, \"=\", n * 5)\n",
    "print(n, \"*\", 6, \"=\", n * 6)\n",
    "print(n, \"*\", 7, \"=\", n * 7)\n",
    "print(n, \"*\", 8, \"=\", n * 8)\n",
    "print(n, \"*\", 9, \"=\", n * 9)\n",
    "print(n, \"*\", 10, \"=\", n * 10)"
   ]
  },
  {
   "cell_type": "markdown",
   "metadata": {},
   "source": [
    "### 09) WAP to calculate Area of Triangle (hint: a = h * b * 0.5)"
   ]
  },
  {
   "cell_type": "code",
   "execution_count": 11,
   "metadata": {},
   "outputs": [
    {
     "name": "stdout",
     "output_type": "stream",
     "text": [
      "Area Of Tringle is :  49.0\n"
     ]
    }
   ],
   "source": [
    "h = int(input(\"Enter h : \"))\n",
    "b = int(input(\"Enter b : \"))\n",
    "print(\"Area Of Tringle is : \", (h*b*0.5))"
   ]
  },
  {
   "cell_type": "markdown",
   "metadata": {},
   "source": [
    "### 10) WAP to convert degree to Fahrenheit and vice versa."
   ]
  },
  {
   "cell_type": "code",
   "execution_count": 13,
   "metadata": {},
   "outputs": [
    {
     "name": "stdout",
     "output_type": "stream",
     "text": [
      "25°C = 77.0°F\n",
      "46°F =  7.777777777777778 C\n"
     ]
    }
   ],
   "source": [
    "#   Degree to Fahrenheit\n",
    "c = int(input(\"Enter Degree : \"))\n",
    "f = (c*(9/5))+32\n",
    "print(f\"{c}°C = {f}°F\")\n",
    "\n",
    "#  Fahrenheit to Degree\n",
    "f = int(input(\"Enter Fahrenhit : \"))\n",
    "c = (f-32)*5/9\n",
    "print(f\"{f}°F = \", c, \"C\")"
   ]
  },
  {
   "cell_type": "markdown",
   "metadata": {},
   "source": [
    "### 11) WAP to calculate total marks and Percentage."
   ]
  },
  {
   "cell_type": "code",
   "execution_count": 15,
   "metadata": {},
   "outputs": [
    {
     "name": "stdout",
     "output_type": "stream",
     "text": [
      "Total Of 80 , 85 , and 90 Is  255  And Percentage Is :  85.0 %\n"
     ]
    }
   ],
   "source": [
    "a = int(input(\"Enter Marks of 1st subject : \"))\n",
    "b = int(input(\"Enter Marks of 2nd subject : \"))\n",
    "c = int(input(\"Enter Marks of 3rd subject: \"))\n",
    "print(f\"Total Of {a} , {b} , and {c} Is \",\n",
    "      (a+b+c), \" And Percentage Is : \", (a+b+c)/3,\"%\")"
   ]
  },
  {
   "cell_type": "markdown",
   "metadata": {},
   "source": [
    "### 12) Compute distance between two points taking input from the user (Pythagorean Theorem)."
   ]
  },
  {
   "cell_type": "code",
   "execution_count": 16,
   "metadata": {},
   "outputs": [
    {
     "name": "stdout",
     "output_type": "stream",
     "text": [
      "Distance Between 45,65 And 12,32 Is 400.0\n"
     ]
    }
   ],
   "source": [
    "x1 = int(input(\"Enter X1 : \"))\n",
    "x2 = int(input(\"Enter X2 : \"))\n",
    "y1 = int(input(\"Enter y1 : \"))\n",
    "y2 = int(input(\"Enter y2 : \"))\n",
    "distance = (((x1-x2)**2)+((y1-y1)**2)**0.5)\n",
    "print(f\"Distance Between {x1},{x2} And {y1},{y2} Is\",\n",
    "      distance)"
   ]
  },
  {
   "cell_type": "markdown",
   "metadata": {},
   "source": [
    "### 13) WAP to convert seconds into hours, minutes & seconds and print in HH:MM:SS\n",
    "[e.g. 10000 seconds mean 2:46:40 (2 Hours, 46 Minutes, 40Seconds)]"
   ]
  },
  {
   "cell_type": "code",
   "execution_count": 22,
   "metadata": {},
   "outputs": [
    {
     "name": "stdout",
     "output_type": "stream",
     "text": [
      "2:46:40\n"
     ]
    }
   ],
   "source": [
    "s = int(input(\"Enter Seconds : \"))\n",
    "m = int(s/60)\n",
    "h = int(m/60)\n",
    "s = s%60\n",
    "m= m%60\n",
    "\n",
    "print(f\"{h}:{m}:{s}\")"
   ]
  },
  {
   "cell_type": "markdown",
   "metadata": {},
   "source": [
    "### 14) WAP to enter distance into kilometer and convert it into meter, feet,inches, and centimeter"
   ]
  },
  {
   "cell_type": "code",
   "execution_count": 24,
   "metadata": {},
   "outputs": [
    {
     "name": "stdout",
     "output_type": "stream",
     "text": [
      "10 km = 10000 m\n",
      "10 km = 32810 ft\n",
      "10 km = 393700 inch\n",
      "10 km = 1000000 cm\n"
     ]
    }
   ],
   "source": [
    "km = int(input(\"Enter distance into kilometer : \"))\n",
    "meter = km*1000\n",
    "feet = km*3281\n",
    "inch = km*39370\n",
    "cm = km*100000\n",
    "\n",
    "print(f\"{km} km = {meter} m\")\n",
    "print(f\"{km} km = {feet} ft\")\n",
    "print(f\"{km} km = {inch} inch\")\n",
    "print(f\"{km} km = {cm} cm\")"
   ]
  }
 ],
 "metadata": {
  "kernelspec": {
   "display_name": "Python 3.11.0 64-bit",
   "language": "python",
   "name": "python3"
  },
  "language_info": {
   "codemirror_mode": {
    "name": "ipython",
    "version": 3
   },
   "file_extension": ".py",
   "mimetype": "text/x-python",
   "name": "python",
   "nbconvert_exporter": "python",
   "pygments_lexer": "ipython3",
   "version": "3.11.0"
  },
  "vscode": {
   "interpreter": {
    "hash": "b98f472bb8ba48098397e3b897b5be76f7bf0e62d98845cdb0e8066dc5677259"
   }
  }
 },
 "nbformat": 4,
 "nbformat_minor": 4
}
