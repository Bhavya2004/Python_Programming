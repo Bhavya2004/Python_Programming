{
 "cells": [
  {
   "cell_type": "markdown",
   "metadata": {},
   "source": [
    "<a href='https://www.darshan.ac.in/'> <img src='https://www.darshan.ac.in/Content/media/DU_Logo.svg' width=\"250\" height=\"300\"/></a>\n",
    "<pre>\n",
    "<center><b><h1>Python Programming - 2101CS405</b></center>\n",
    "<center><b><h1>Lab - 9</b></center>    \n",
    "<pre>"
   ]
  },
  {
   "cell_type": "markdown",
   "metadata": {},
   "source": [
    "# Exception Handling"
   ]
  },
  {
   "cell_type": "markdown",
   "metadata": {},
   "source": [
    "# A"
   ]
  },
  {
   "cell_type": "markdown",
   "metadata": {},
   "source": [
    "### 01) WAP to handle divide by zero exception."
   ]
  },
  {
   "cell_type": "code",
   "execution_count": 10,
   "metadata": {},
   "outputs": [
    {
     "name": "stdout",
     "output_type": "stream",
     "text": [
      "division by zero\n",
      "Second operator must not be zero.\n"
     ]
    }
   ],
   "source": [
    "try:\n",
    "    a=int(input(\"Enter the first number\"))\n",
    "    b=int(input(\"Enter the second number\"))\n",
    "    ans=a/b\n",
    "    print(ans)\n",
    "except ZeroDivisionError as e:\n",
    "    print(e)\n",
    "    print(\"Second operator must not be zero.\")"
   ]
  },
  {
   "cell_type": "markdown",
   "metadata": {},
   "source": [
    "### 02)  Write a Python program that inputs a number and generates an error message if it is not a number."
   ]
  },
  {
   "cell_type": "code",
   "execution_count": 4,
   "metadata": {},
   "outputs": [
    {
     "name": "stdout",
     "output_type": "stream",
     "text": [
      "invalid literal for int() with base 10: 'a'\n",
      "Enter valid number\n"
     ]
    }
   ],
   "source": [
    "try:\n",
    "    n=int(input(\"Enter your number:\"))\n",
    "except ValueError as e:\n",
    "    print(e)\n",
    "    print(\"Enter valid number\")"
   ]
  },
  {
   "cell_type": "markdown",
   "metadata": {},
   "source": [
    "### 03) WAP to handle file not found Exception"
   ]
  },
  {
   "cell_type": "code",
   "execution_count": 12,
   "metadata": {},
   "outputs": [
    {
     "name": "stdout",
     "output_type": "stream",
     "text": [
      "[Errno 2] No such file or directory: 'abc.txt'\n",
      "File Does not exist\n"
     ]
    }
   ],
   "source": [
    "try:\n",
    "    fo=open(\"abc.txt\", \"r\")\n",
    "    for line in fo.readlines():\n",
    "        print(line)\n",
    "except FileNotFoundError as e:\n",
    "    print(e)\n",
    "    print(\"File Does not exist\")\n"
   ]
  },
  {
   "cell_type": "markdown",
   "metadata": {},
   "source": [
    "### 04) WAP to handle type Exception."
   ]
  },
  {
   "cell_type": "code",
   "execution_count": 7,
   "metadata": {},
   "outputs": [
    {
     "name": "stdout",
     "output_type": "stream",
     "text": [
      "unsupported operand type(s) for -: 'str' and 'int'\n",
      "Invalid Datatype\n"
     ]
    }
   ],
   "source": [
    "try:\n",
    "    answer=\"abc\"-2\n",
    "except TypeError as e:\n",
    "    print(e)\n",
    "    print(\"Invalid Datatype\")\n"
   ]
  },
  {
   "cell_type": "markdown",
   "metadata": {},
   "source": [
    "### 05) WAP to demonstrate valueError and indexError with example."
   ]
  },
  {
   "cell_type": "code",
   "execution_count": 9,
   "metadata": {},
   "outputs": [
    {
     "name": "stdout",
     "output_type": "stream",
     "text": [
      "list index out of range\n",
      "ValueError and IndexError raised.\n"
     ]
    }
   ],
   "source": [
    "try:\n",
    "    n=int(input(\"Enter number:\"))\n",
    "    lst=[]\n",
    "    lst.append(n)\n",
    "    print(lst[1])\n",
    "except (ValueError,IndexError) as e:\n",
    "    print(e)\n",
    "    print(\"ValueError and IndexError raised.\")  "
   ]
  },
  {
   "cell_type": "markdown",
   "metadata": {},
   "source": [
    "### 06) WAP to domonstrate else  and finally block."
   ]
  },
  {
   "cell_type": "code",
   "execution_count": 12,
   "metadata": {},
   "outputs": [
    {
     "name": "stdout",
     "output_type": "stream",
     "text": [
      "Else block executes only if exception is not raised\n",
      "14\n",
      "Finally block is always executed irrespective of exception\n"
     ]
    }
   ],
   "source": [
    "try:\n",
    "    a=int(input(\"A=\"))\n",
    "    b=int(input(\"B=\"))\n",
    "    ans=a+b\n",
    "except TypeError as e:\n",
    "    print(\" TypeError Exception raised\")\n",
    "else:\n",
    "    print(\"Else block executes only if exception is not raised\")\n",
    "    print(ans)\n",
    "finally:\n",
    "    print(\"Finally block is always executed irrespective of exception\")"
   ]
  },
  {
   "cell_type": "markdown",
   "metadata": {},
   "source": [
    "### 07) Create a short program that prompts the user for a list of grades separated by commas. Split the string into individual grades and use a list comprehension to convert each string to an integer. You should use a try statement to inform the user when the values they entered cannot be converted."
   ]
  },
  {
   "cell_type": "code",
   "execution_count": 14,
   "metadata": {},
   "outputs": [
    {
     "name": "stdout",
     "output_type": "stream",
     "text": [
      "[1, 5, 8, 47]\n"
     ]
    }
   ],
   "source": [
    "try:\n",
    "    marks=input(\"Enter the list of marks seperated by commas: \").split(\",\")\n",
    "    lst=[int(i) for i in marks]\n",
    "except:\n",
    "    print(\"Value can't be converted\")\n",
    "else:\n",
    "    print(lst)"
   ]
  },
  {
   "cell_type": "markdown",
   "metadata": {},
   "source": []
  },
  {
   "cell_type": "markdown",
   "metadata": {},
   "source": [
    "# B"
   ]
  },
  {
   "cell_type": "markdown",
   "metadata": {},
   "source": [
    "### 01) WAP to Raising User Generated Exception."
   ]
  },
  {
   "cell_type": "code",
   "execution_count": 8,
   "metadata": {},
   "outputs": [
    {
     "name": "stdout",
     "output_type": "stream",
     "text": [
      "division by zero\n"
     ]
    }
   ],
   "source": [
    "try:\n",
    "    a=int(input(\"Enter 1st number:\"))\n",
    "    b=int(input(\"Enter 2nd number:\"))\n",
    "    ans=a/b\n",
    "except Exception as e:\n",
    "    print(e)\n",
    "else:\n",
    "    print(ans)"
   ]
  },
  {
   "cell_type": "markdown",
   "metadata": {},
   "source": [
    "### 02) WAP to raise your custom Exception."
   ]
  },
  {
   "cell_type": "code",
   "execution_count": 6,
   "metadata": {},
   "outputs": [
    {
     "name": "stdout",
     "output_type": "stream",
     "text": [
      "Num is negative\n"
     ]
    }
   ],
   "source": [
    "class UserGeneratedException(Exception):\n",
    "    pass\n",
    "try:\n",
    "    n=int(input(\"Enter your number :\"))\n",
    "    if n>0:\n",
    "        print(\"Positive number\")\n",
    "    else:\n",
    "        raise UserGeneratedException\n",
    "except UserGeneratedException:\n",
    "    print(\"Num is negative\")"
   ]
  }
 ],
 "metadata": {
  "kernelspec": {
   "display_name": "Python 3",
   "language": "python",
   "name": "python3"
  },
  "language_info": {
   "codemirror_mode": {
    "name": "ipython",
    "version": 3
   },
   "file_extension": ".py",
   "mimetype": "text/x-python",
   "name": "python",
   "nbconvert_exporter": "python",
   "pygments_lexer": "ipython3",
   "version": "3.11.0"
  },
  "vscode": {
   "interpreter": {
    "hash": "b98f472bb8ba48098397e3b897b5be76f7bf0e62d98845cdb0e8066dc5677259"
   }
  }
 },
 "nbformat": 4,
 "nbformat_minor": 4
}
