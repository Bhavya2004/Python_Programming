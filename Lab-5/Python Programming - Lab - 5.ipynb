{
 "cells": [
  {
   "cell_type": "markdown",
   "metadata": {},
   "source": [
    "\n",
    "<a href='https://www.darshan.ac.in/'> <img src='https://www.darshan.ac.in/Content/media/DU_Logo.svg' width=\"250\" height=\"300\"/></a>\n",
    "<pre>\n",
    "<center><b><h1>Python Programming - 2101CS405</b></center>\n",
    "<center><b><h1>Lab - 5</b></center>    \n",
    "<pre>"
   ]
  },
  {
   "cell_type": "markdown",
   "metadata": {},
   "source": [
    "# list"
   ]
  },
  {
   "cell_type": "markdown",
   "metadata": {},
   "source": [
    "### 01) WAP to find sum of all the elements in List."
   ]
  },
  {
   "cell_type": "code",
   "execution_count": 1,
   "metadata": {},
   "outputs": [
    {
     "name": "stdout",
     "output_type": "stream",
     "text": [
      "Enter size of list 3\n",
      "Enter element of list 15\n",
      "Enter element of list 48\n",
      "Enter element of list 9\n",
      "Original list [15, 48, 9]\n",
      "Sum of all the elements in the list are:72\n"
     ]
    }
   ],
   "source": [
    "li=[]\n",
    "n=int(input(\"Enter size of list \"))\n",
    "for i in range(0,n):\n",
    "    e=int(input(\"Enter element of list \"))\n",
    "    li.append(e)\n",
    "print(\"Original list\",li)\n",
    "sum=0\n",
    "for i in li:\n",
    "    sum+=i\n",
    "print(f\"Sum of all the elements in the list are:{sum}\")"
   ]
  },
  {
   "cell_type": "markdown",
   "metadata": {},
   "source": [
    "### 02) WAP to find largest element in a List."
   ]
  },
  {
   "cell_type": "code",
   "execution_count": 2,
   "metadata": {},
   "outputs": [
    {
     "name": "stdout",
     "output_type": "stream",
     "text": [
      "Enter size of list 4\n",
      "Enter element of list 12\n",
      "Enter element of list 48\n",
      "Enter element of list 4\n",
      "Enter element of list 36\n",
      "Original list [12, 48, 4, 36]\n",
      "Largest Element in a List is: 48\n"
     ]
    }
   ],
   "source": [
    "li=[]\n",
    "n=int(input(\"Enter size of list \"))\n",
    "for i in range(0,n):\n",
    "    e=int(input(\"Enter element of list \"))\n",
    "    li.append(e)\n",
    "print(\"Original list\",li)\n",
    "li.sort()\n",
    "print(f\"Largest Element in a List is:\",li[-1])\n",
    "    \n",
    "    "
   ]
  },
  {
   "cell_type": "markdown",
   "metadata": {},
   "source": [
    "### 03) WAP to split the List into two and append the first part to the end."
   ]
  },
  {
   "cell_type": "code",
   "execution_count": 3,
   "metadata": {},
   "outputs": [
    {
     "name": "stdout",
     "output_type": "stream",
     "text": [
      "Enter size of list 3\n",
      "Enter element of list 10\n",
      "Enter element of list 20\n",
      "Enter element of list 70\n",
      "Original list [10, 20, 70]\n",
      "[20, 70, 10]\n"
     ]
    }
   ],
   "source": [
    "li=[]\n",
    "n=int(input(\"Enter size of list \"))\n",
    "for i in range(0,n):\n",
    "    e=int(input(\"Enter element of list \"))\n",
    "    li.append(e)\n",
    "print(\"Original list\",li)\n",
    "c=int(len(li)/2)\n",
    "a=li[0:c:]\n",
    "b=li[c::]\n",
    "print(b+a)\n"
   ]
  },
  {
   "cell_type": "markdown",
   "metadata": {},
   "source": [
    "### 04) WAP to interchange first and last elements in list entered by a user."
   ]
  },
  {
   "cell_type": "code",
   "execution_count": 4,
   "metadata": {},
   "outputs": [
    {
     "name": "stdout",
     "output_type": "stream",
     "text": [
      "Enter size of list 5\n",
      "Enter element of list 10\n",
      "Enter element of list 20\n",
      "Enter element of list 78\n",
      "Enter element of list 2\n",
      "Enter element of list 35\n",
      "Original list [10, 20, 78, 2, 35]\n",
      "[35, 20, 78, 2, 10]\n"
     ]
    }
   ],
   "source": [
    "li=[]\n",
    "n=int(input(\"Enter size of list \"))\n",
    "for i in range(0,n):\n",
    "    e=int(input(\"Enter element of list \"))\n",
    "    li.append(e)\n",
    "print(\"Original list\",li)\n",
    "\n",
    "a=li[0]\n",
    "li[0]=li[-1]\n",
    "li[-1]=a\n",
    "print(li)\n",
    "\n",
    "\n"
   ]
  },
  {
   "cell_type": "markdown",
   "metadata": {},
   "source": [
    "### 05) WAP to interchange the elements on two positions entered by a user."
   ]
  },
  {
   "cell_type": "code",
   "execution_count": 5,
   "metadata": {},
   "outputs": [
    {
     "name": "stdout",
     "output_type": "stream",
     "text": [
      "Enter size of list 4\n",
      "Enter element of list 10\n",
      "Enter element of list 78\n",
      "Enter element of list 98\n",
      "Enter element of list 155\n",
      "Original list [10, 78, 98, 155]\n",
      "Enter initial position:1\n",
      "Enter final position:3\n",
      "[10, 155, 98, 78]\n"
     ]
    }
   ],
   "source": [
    "li=[]\n",
    "n=int(input(\"Enter size of list \"))\n",
    "for i in range(0,n):\n",
    "    e=int(input(\"Enter element of list \"))\n",
    "    li.append(e)\n",
    "print(\"Original list\",li)\n",
    "\n",
    "a=int(input(\"Enter initial position:\"))\n",
    "b=int(input(\"Enter final position:\"))\n",
    "li[a],li[b]=li[b],li[a] \n",
    "print(li)"
   ]
  },
  {
   "cell_type": "markdown",
   "metadata": {},
   "source": [
    "### 06) WAP to reverses the list entered by user."
   ]
  },
  {
   "cell_type": "code",
   "execution_count": 6,
   "metadata": {},
   "outputs": [
    {
     "name": "stdout",
     "output_type": "stream",
     "text": [
      "Enter size of list 6\n",
      "Enter element of list 10\n",
      "Enter element of list 20\n",
      "Enter element of list 36\n",
      "Enter element of list 48\n",
      "Enter element of list 79\n",
      "Enter element of list 56\n",
      "Original list [10, 20, 36, 48, 79, 56]\n",
      "[56, 79, 48, 36, 20, 10]\n"
     ]
    }
   ],
   "source": [
    "li=[]\n",
    "n=int(input(\"Enter size of list \"))\n",
    "for i in range(0,n):\n",
    "    e=int(input(\"Enter element of list \"))\n",
    "    li.append(e)\n",
    "print(\"Original list\",li)\n",
    "\n",
    "print(li[::-1])"
   ]
  },
  {
   "cell_type": "markdown",
   "metadata": {},
   "source": [
    "### 07) Python program to remove multiple elements from a list using list comprehension"
   ]
  },
  {
   "cell_type": "code",
   "execution_count": null,
   "metadata": {},
   "outputs": [],
   "source": [
    "li=[]\n",
    "n=int(input(\"Enter size of list \"))\n",
    "for i in range(0,n):\n",
    "    e=int(input(\"Enter element of list \"))\n",
    "    li.append(e)\n",
    "print(\"Original list\",li)\n",
    "\n",
    "# based on which condition??\n",
    "# new_list=[i for i in li if li % 5 == 0 =>{li.remove(i)}]\n",
    "# print(new_list)"
   ]
  },
  {
   "cell_type": "markdown",
   "metadata": {},
   "source": [
    "### 08) Create a list from the specified start to end index of another list."
   ]
  },
  {
   "cell_type": "code",
   "execution_count": 7,
   "metadata": {},
   "outputs": [
    {
     "name": "stdout",
     "output_type": "stream",
     "text": [
      "Enter size of list 3\n",
      "Enter element of list 10\n",
      "Enter element of list 45\n",
      "Enter element of list 89\n",
      "Original list [10, 45, 89]\n",
      "Enter first position:0\n",
      "Enter second position:1\n",
      "[10, 45]\n"
     ]
    }
   ],
   "source": [
    "li=[]\n",
    "n=int(input(\"Enter size of list \"))\n",
    "for i in range(0,n):\n",
    "    e=int(input(\"Enter element of list \"))\n",
    "    li.append(e)\n",
    "print(\"Original list\",li)\n",
    "\n",
    "first=int(input(\"Enter first position:\"))\n",
    "second=int(input(\"Enter second position:\"))\n",
    "\n",
    "print(li[first:second+1:])"
   ]
  },
  {
   "cell_type": "markdown",
   "metadata": {},
   "source": [
    "### 09) Input comma separated elements, convert into list and print."
   ]
  },
  {
   "cell_type": "code",
   "execution_count": 9,
   "metadata": {},
   "outputs": [
    {
     "name": "stdout",
     "output_type": "stream",
     "text": [
      "Enter comma seperated values10,56,abc\n",
      "['10', '56', 'abc']\n"
     ]
    }
   ],
   "source": [
    " my_string = input('Enter comma seperated values')\n",
    " my_list = my_string.split(\",\")\n",
    " print (my_list)"
   ]
  },
  {
   "cell_type": "markdown",
   "metadata": {},
   "source": [
    "### 01) WAP to count Even and Odd numbers in a List."
   ]
  },
  {
   "cell_type": "code",
   "execution_count": 13,
   "metadata": {},
   "outputs": [
    {
     "name": "stdout",
     "output_type": "stream",
     "text": [
      "Enter size of list 5\n",
      "Enter element of list 10\n",
      "Enter element of list 12\n",
      "Enter element of list 13\n",
      "Enter element of list 78\n",
      "Enter element of list 98\n",
      "Original list [10, 12, 13, 78, 98]\n",
      "Even numbers in the list:  4\n",
      "Odd numbers in the list:  1\n"
     ]
    }
   ],
   "source": [
    "li=[]\n",
    "n=int(input(\"Enter size of list \"))\n",
    "for i in range(0,n):\n",
    "    e=int(input(\"Enter element of list \"))\n",
    "    li.append(e)\n",
    "print(\"Original list\",li)\n",
    "\n",
    "only_odd = [i for i in li if i % 2 == 1]\n",
    "odd_count = len(only_odd)\n",
    " \n",
    "print(\"Even numbers in the list: \", len(li) - odd_count)\n",
    "print(\"Odd numbers in the list: \", odd_count)"
   ]
  },
  {
   "cell_type": "markdown",
   "metadata": {},
   "source": [
    "### 02) Python program to find N largest and smallest elements from the list"
   ]
  },
  {
   "cell_type": "code",
   "execution_count": 21,
   "metadata": {},
   "outputs": [
    {
     "name": "stdout",
     "output_type": "stream",
     "text": [
      "Enter size of list 5\n",
      "Enter element of list -6\n",
      "Enter element of list -10\n",
      "Enter element of list 56\n",
      "Enter element of list 12\n",
      "Enter element of list 4\n",
      "Original list [-6, -10, 56, 12, 4]\n",
      "Enter value of n:3\n",
      "3 largest elements in list : [4, 12, 56]\n",
      "3 smallest elements in list : [-10, -6, 4]\n"
     ]
    }
   ],
   "source": [
    "li=[]\n",
    "n=int(input(\"Enter size of list \"))\n",
    "for i in range(0,n):\n",
    "    e=int(input(\"Enter element of list \"))\n",
    "    li.append(e)\n",
    "print(\"Original list\",li)\n",
    "\n",
    "n = int(input('Enter value of n:'))\n",
    " \n",
    "li.sort()\n",
    "print(n,'largest elements in list :',li[-n:])\n",
    "print(n,'smallest elements in list :',li[:n])"
   ]
  },
  {
   "cell_type": "markdown",
   "metadata": {},
   "source": [
    "### 03) WAP to print duplicates from a list of integers"
   ]
  },
  {
   "cell_type": "code",
   "execution_count": 22,
   "metadata": {},
   "outputs": [
    {
     "name": "stdout",
     "output_type": "stream",
     "text": [
      "Enter size of list 5\n",
      "Enter element of list 10\n",
      "Enter element of list 10\n",
      "Enter element of list 20\n",
      "Enter element of list 40\n",
      "Enter element of list 30\n",
      "Original list [10, 10, 20, 40, 30]\n",
      "[10]\n"
     ]
    }
   ],
   "source": [
    "li=[]\n",
    "n=int(input(\"Enter size of list \"))\n",
    "for i in range(0,n):\n",
    "    e=int(input(\"Enter element of list \"))\n",
    "    li.append(e)\n",
    "print(\"Original list\",li)\n",
    "\n",
    "new_li=list(set([i for i in li if li.count(i) > 1]))\n",
    "print(new_li) "
   ]
  }
 ],
 "metadata": {
  "kernelspec": {
   "display_name": "Python 3 (ipykernel)",
   "language": "python",
   "name": "python3"
  },
  "language_info": {
   "codemirror_mode": {
    "name": "ipython",
    "version": 3
   },
   "file_extension": ".py",
   "mimetype": "text/x-python",
   "name": "python",
   "nbconvert_exporter": "python",
   "pygments_lexer": "ipython3",
   "version": "3.9.13"
  }
 },
 "nbformat": 4,
 "nbformat_minor": 4
}
