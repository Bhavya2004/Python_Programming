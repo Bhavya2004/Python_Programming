{
 "cells": [
  {
   "cell_type": "markdown",
   "metadata": {},
   "source": [
    "<a href='https://www.darshan.ac.in/'> <img src='https://www.darshan.ac.in/Content/media/DU_Logo.svg' width=\"250\" height=\"300\"/></a>\n",
    "<pre>\n",
    "<center><b><h1>Python Programming - 2101CS405</b></center>\n",
    "<center><b><h1>Lab - 8</b></center>    \n",
    "<pre>"
   ]
  },
  {
   "cell_type": "markdown",
   "metadata": {},
   "source": [
    "# File handling"
   ]
  },
  {
   "cell_type": "markdown",
   "metadata": {},
   "source": [
    "# A"
   ]
  },
  {
   "cell_type": "markdown",
   "metadata": {},
   "source": [
    "### 01) WAP to read entire file named abc.txt"
   ]
  },
  {
   "cell_type": "code",
   "execution_count": 1,
   "metadata": {},
   "outputs": [
    {
     "name": "stdout",
     "output_type": "stream",
     "text": [
      "Hello World from Python\n"
     ]
    }
   ],
   "source": [
    "fo=open(\"abc.txt\", \"r\")\n",
    "print(fo.read())\n",
    "fo.close()"
   ]
  },
  {
   "cell_type": "markdown",
   "metadata": {},
   "source": [
    "### 02) WAP to print program it self on console."
   ]
  },
  {
   "cell_type": "code",
   "execution_count": 3,
   "metadata": {},
   "outputs": [
    {
     "name": "stdout",
     "output_type": "stream",
     "text": [
      "{\n",
      " \"cells\": [\n",
      "  {\n",
      "   \"cell_type\": \"markdown\",\n",
      "   \"metadata\": {},\n",
      "   \"source\": [\n",
      "    \"<a href='https://www.darshan.ac.in/'> <img src='https://www.darshan.ac.in/Content/media/DU_Logo.svg' width=\\\"250\\\" height=\\\"300\\\"/></a>\\n\",\n",
      "    \"<pre>\\n\",\n",
      "    \"<center><b><h1>Python Programming - 2101CS405</b></center>\\n\",\n",
      "    \"<center><b><h1>Lab - 8</b></center>    \\n\",\n",
      "    \"<pre>\"\n",
      "   ]\n",
      "  },\n",
      "  {\n",
      "   \"cell_type\": \"markdown\",\n",
      "   \"metadata\": {},\n",
      "   \"source\": [\n",
      "    \"# File handling\"\n",
      "   ]\n",
      "  },\n",
      "  {\n",
      "   \"cell_type\": \"markdown\",\n",
      "   \"metadata\": {},\n",
      "   \"source\": [\n",
      "    \"# A\"\n",
      "   ]\n",
      "  },\n",
      "  {\n",
      "   \"cell_type\": \"markdown\",\n",
      "   \"metadata\": {},\n",
      "   \"source\": [\n",
      "    \"### 01) WAP to read entire file named abc.txt\"\n",
      "   ]\n",
      "  },\n",
      "  {\n",
      "   \"cell_type\": \"code\",\n",
      "   \"execution_count\": 3,\n",
      "   \"metadata\": {},\n",
      "   \"outputs\": [\n",
      "    {\n",
      "     \"name\": \"stdout\",\n",
      "     \"output_type\": \"stream\",\n",
      "     \"text\": [\n",
      "      \"Hello World\\n\",\n",
      "      \"From abc.txt\\n\"\n",
      "     ]\n",
      "    }\n",
      "   ],\n",
      "   \"source\": [\n",
      "    \"fo=open(\\\"abc.txt\\\", \\\"r\\\")\\n\",\n",
      "    \"print(fo.read())\"\n",
      "   ]\n",
      "  },\n",
      "  {\n",
      "   \"cell_type\": \"markdown\",\n",
      "   \"metadata\": {},\n",
      "   \"source\": [\n",
      "    \"### 02) WAP to print program it self on console.\"\n",
      "   ]\n",
      "  },\n",
      "  {\n",
      "   \"cell_type\": \"code\",\n",
      "   \"execution_count\": 4,\n",
      "   \"metadata\": {},\n",
      "   \"outputs\": [\n",
      "    {\n",
      "     \"name\": \"stdout\",\n",
      "     \"output_type\": \"stream\",\n",
      "     \"text\": [\n",
      "      \"<_io.TextIOWrapper name='abc.txt' mode='r' encoding='cp1252'>\\n\"\n",
      "     ]\n",
      "    }\n",
      "   ],\n",
      "   \"source\": [\n",
      "    \"fo=open(\\\"abc.txt\\\",\\\"r\\\")\\n\",\n",
      "    \"print()\"\n",
      "   ]\n",
      "  },\n",
      "  {\n",
      "   \"cell_type\": \"markdown\",\n",
      "   \"metadata\": {},\n",
      "   \"source\": [\n",
      "    \"### 03) WAP to read first 5 lines from the file named abc.txt\"\n",
      "   ]\n",
      "  },\n",
      "  {\n",
      "   \"cell_type\": \"code\",\n",
      "   \"execution_count\": 6,\n",
      "   \"metadata\": {},\n",
      "   \"outputs\": [\n",
      "    {\n",
      "     \"name\": \"stdout\",\n",
      "     \"output_type\": \"stream\",\n",
      "     \"text\": [\n",
      "      \"['Hello World  Line 1\\\\n', 'From abc.txt Line 2\\\\n', 'Hello World Line 3\\\\n', 'From abc.txt Line 4\\\\n', 'Hello World Line 5\\\\n']\\n\"\n",
      "     ]\n",
      "    }\n",
      "   ],\n",
      "   \"source\": [\n",
      "    \"fo = open('abc.txt')\\n\",\n",
      "    \"content = fo.readlines()\\n\",\n",
      "    \"print(content[0:5])\\n\"\n",
      "   ]\n",
      "  },\n",
      "  {\n",
      "   \"cell_type\": \"markdown\",\n",
      "   \"metadata\": {},\n",
      "   \"source\": [\n",
      "    \"### 04) WAP to find the longest word in a file named abc.txt\"\n",
      "   ]\n",
      "  },\n",
      "  {\n",
      "   \"cell_type\": \"code\",\n",
      "   \"execution_count\": 7,\n",
      "   \"metadata\": {},\n",
      "   \"outputs\": [\n",
      "    {\n",
      "     \"name\": \"stdout\",\n",
      "     \"output_type\": \"stream\",\n",
      "     \"text\": [\n",
      "      \"['abc.txt', 'abc.txt', 'abc.txt']\\n\"\n",
      "     ]\n",
      "    }\n",
      "   ],\n",
      "   \"source\": [\n",
      "    \"fo = open('abc.txt')\\n\",\n",
      "    \"wordsList = fo.read().split()\\n\",\n",
      "    \"longestWordLength = len(max(wordsList, key=len))\\n\",\n",
      "    \"# Here, we are checking all the words whose length is equal to that of the longest word\\n\",\n",
      "    \"result = [a for a in wordsList if len(a) == longestWordLength]\\n\",\n",
      "    \"print(result)\"\n",
      "   ]\n",
      "  },\n",
      "  {\n",
      "   \"cell_type\": \"markdown\",\n",
      "   \"metadata\": {},\n",
      "   \"source\": [\n",
      "    \"### 05) WAP to find the size of the file named abc.txt\"\n",
      "   ]\n",
      "  },\n",
      "  {\n",
      "   \"cell_type\": \"code\",\n",
      "   \"execution_count\": 10,\n",
      "   \"metadata\": {},\n",
      "   \"outputs\": [\n",
      "    {\n",
      "     \"name\": \"stdout\",\n",
      "     \"output_type\": \"stream\",\n",
      "     \"text\": [\n",
      "      \"122 Bytes\\n\"\n",
      "     ]\n",
      "    }\n",
      "   ],\n",
      "   \"source\": [\n",
      "    \"fo = open('abc.txt')\\n\",\n",
      "    \"\\n\",\n",
      "    \"#Move the cursor to the end of the file\\n\",\n",
      "    \"fo.seek(0,os.SEEK_END)\\n\",\n",
      "    \"\\n\",\n",
      "    \"print(fo.tell(),\\\"Bytes\\\")\"\n",
      "   ]\n",
      "  },\n",
      "  {\n",
      "   \"cell_type\": \"markdown\",\n",
      "   \"metadata\": {},\n",
      "   \"source\": [\n",
      "    \"### 06) WAP to implement search function to search specific occurance of word in a given text file.\"\n",
      "   ]\n",
      "  },\n",
      "  {\n",
      "   \"cell_type\": \"code\",\n",
      "   \"execution_count\": 13,\n",
      "   \"metadata\": {},\n",
      "   \"outputs\": [\n",
      "    {\n",
      "     \"name\": \"stdout\",\n",
      "     \"output_type\": \"stream\",\n",
      "     \"text\": [\n",
      "      \"hello : 1\\n\",\n",
      "      \"world : 1\\n\",\n",
      "      \"from : 1\\n\",\n",
      "      \"python : 1\\n\"\n",
      "     ]\n",
      "    }\n",
      "   ],\n",
      "   \"source\": [\n",
      "    \"fo = open('abc.txt')\\n\",\n",
      "    \"d=dict()\\n\",\n",
      "    \"\\n\",\n",
      "    \"for line in fo:\\n\",\n",
      "    \"    # Remove the leading spaces and newline character\\n\",\n",
      "    \"    line=line.strip()\\n\",\n",
      "    \"    # Convert the characters in line to lowercase to avoid case mismatch\\n\",\n",
      "    \"    line = line.lower()\\n\",\n",
      "    \"    # Split the line into words\\n\",\n",
      "    \"    words = line.split(\\\" \\\")\\n\",\n",
      "    \"\\n\",\n",
      "    \"    for w in words:\\n\",\n",
      "    \"        if w in d:\\n\",\n",
      "    \"            d[w] = d[w]+1\\n\",\n",
      "    \"        else:\\n\",\n",
      "    \"            d[w]=1\\n\",\n",
      "    \"\\n\",\n",
      "    \"# Print the contents of dictionary\\n\",\n",
      "    \"for key in list(d.keys()):\\n\",\n",
      "    \"    print(key, \\\":\\\", d[key])\"\n",
      "   ]\n",
      "  },\n",
      "  {\n",
      "   \"cell_type\": \"markdown\",\n",
      "   \"metadata\": {},\n",
      "   \"source\": [\n",
      "    \"# B\"\n",
      "   ]\n",
      "  },\n",
      "  {\n",
      "   \"cell_type\": \"markdown\",\n",
      "   \"metadata\": {},\n",
      "   \"source\": [\n",
      "    \"### 01) WAP to write first 100 prime numbers to a file named primenumbers.txt \\n\",\n",
      "    \"(Note: each number should be in new line)\"\n",
      "   ]\n",
      "  },\n",
      "  {\n",
      "   \"cell_type\": \"code\",\n",
      "   \"execution_count\": 16,\n",
      "   \"metadata\": {},\n",
      "   \"outputs\": [\n",
      "    {\n",
      "     \"name\": \"stdout\",\n",
      "     \"output_type\": \"stream\",\n",
      "     \"text\": [\n",
      "      \"2\\n\",\n",
      "      \"4\\n\",\n",
      "      \"6\\n\",\n",
      "      \"8\\n\",\n",
      "      \"10\\n\",\n",
      "      \"12\\n\",\n",
      "      \"14\\n\",\n",
      "      \"16\\n\",\n",
      "      \"18\\n\",\n",
      "      \"20\\n\",\n",
      "      \"22\\n\",\n",
      "      \"24\\n\",\n",
      "      \"26\\n\",\n",
      "      \"28\\n\",\n",
      "      \"30\\n\",\n",
      "      \"32\\n\",\n",
      "      \"34\\n\",\n",
      "      \"36\\n\",\n",
      "      \"38\\n\",\n",
      "      \"40\\n\",\n",
      "      \"42\\n\",\n",
      "      \"44\\n\",\n",
      "      \"46\\n\",\n",
      "      \"48\\n\",\n",
      "      \"50\\n\",\n",
      "      \"52\\n\",\n",
      "      \"54\\n\",\n",
      "      \"56\\n\",\n",
      "      \"58\\n\",\n",
      "      \"60\\n\",\n",
      "      \"62\\n\",\n",
      "      \"64\\n\",\n",
      "      \"66\\n\",\n",
      "      \"68\\n\",\n",
      "      \"70\\n\",\n",
      "      \"72\\n\",\n",
      "      \"74\\n\",\n",
      "      \"76\\n\",\n",
      "      \"78\\n\",\n",
      "      \"80\\n\",\n",
      "      \"82\\n\",\n",
      "      \"84\\n\",\n",
      "      \"86\\n\",\n",
      "      \"88\\n\",\n",
      "      \"90\\n\",\n",
      "      \"92\\n\",\n",
      "      \"94\\n\",\n",
      "      \"96\\n\",\n",
      "      \"98\\n\"\n",
      "     ]\n",
      "    }\n",
      "   ],\n",
      "   \"source\": [\n",
      "    \"fo=open(\\\"prmenumbers.txt\\\",\\\"w\\\")\\n\",\n",
      "    \"for i in range(1,100):\\n\",\n",
      "    \"    if(i%2==0):\\n\",\n",
      "    \"        print(i)\\n\"\n",
      "   ]\n",
      "  },\n",
      "  {\n",
      "   \"cell_type\": \"markdown\",\n",
      "   \"metadata\": {},\n",
      "   \"source\": [\n",
      "    \"### 02) WAP to merge two files and write it in a new file.\"\n",
      "   ]\n",
      "  },\n",
      "  {\n",
      "   \"cell_type\": \"code\",\n",
      "   \"execution_count\": null,\n",
      "   \"metadata\": {},\n",
      "   \"outputs\": [],\n",
      "   \"source\": []\n",
      "  },\n",
      "  {\n",
      "   \"cell_type\": \"markdown\",\n",
      "   \"metadata\": {},\n",
      "   \"source\": [\n",
      "    \"### 03) WAP to encrypt a text file.\"\n",
      "   ]\n",
      "  },\n",
      "  {\n",
      "   \"cell_type\": \"code\",\n",
      "   \"execution_count\": null,\n",
      "   \"metadata\": {},\n",
      "   \"outputs\": [],\n",
      "   \"source\": []\n",
      "  },\n",
      "  {\n",
      "   \"cell_type\": \"markdown\",\n",
      "   \"metadata\": {},\n",
      "   \"source\": [\n",
      "    \"### 04) WAP to decrypt a previously encrypted file.\"\n",
      "   ]\n",
      "  },\n",
      "  {\n",
      "   \"cell_type\": \"code\",\n",
      "   \"execution_count\": null,\n",
      "   \"metadata\": {},\n",
      "   \"outputs\": [],\n",
      "   \"source\": []\n",
      "  },\n",
      "  {\n",
      "   \"cell_type\": \"markdown\",\n",
      "   \"metadata\": {},\n",
      "   \"source\": [\n",
      "    \"### 05) WAP to remove a word from text file.\"\n",
      "   ]\n",
      "  },\n",
      "  {\n",
      "   \"cell_type\": \"code\",\n",
      "   \"execution_count\": null,\n",
      "   \"metadata\": {},\n",
      "   \"outputs\": [],\n",
      "   \"source\": []\n",
      "  }\n",
      " ],\n",
      " \"metadata\": {\n",
      "  \"kernelspec\": {\n",
      "   \"display_name\": \"Python 3\",\n",
      "   \"language\": \"python\",\n",
      "   \"name\": \"python3\"\n",
      "  },\n",
      "  \"language_info\": {\n",
      "   \"codemirror_mode\": {\n",
      "    \"name\": \"ipython\",\n",
      "    \"version\": 3\n",
      "   },\n",
      "   \"file_extension\": \".py\",\n",
      "   \"mimetype\": \"text/x-python\",\n",
      "   \"name\": \"python\",\n",
      "   \"nbconvert_exporter\": \"python\",\n",
      "   \"pygments_lexer\": \"ipython3\",\n",
      "   \"version\": \"3.11.0\"\n",
      "  },\n",
      "  \"vscode\": {\n",
      "   \"interpreter\": {\n",
      "    \"hash\": \"b98f472bb8ba48098397e3b897b5be76f7bf0e62d98845cdb0e8066dc5677259\"\n",
      "   }\n",
      "  }\n",
      " },\n",
      " \"nbformat\": 4,\n",
      " \"nbformat_minor\": 4\n",
      "}\n",
      "\n"
     ]
    }
   ],
   "source": [
    "fo=open(\"Python Programming - Lab - 8.ipynb\",\"r\")\n",
    "print(fo.read())"
   ]
  },
  {
   "cell_type": "markdown",
   "metadata": {},
   "source": [
    "### 03) WAP to read first 5 lines from the file named abc.txt"
   ]
  },
  {
   "cell_type": "code",
   "execution_count": 6,
   "metadata": {},
   "outputs": [
    {
     "name": "stdout",
     "output_type": "stream",
     "text": [
      "Hello World from Python\n",
      "\n",
      "Line 2\n",
      "\n",
      "Line 3\n",
      "\n",
      "Line 4\n",
      "\n",
      "Line 5\n"
     ]
    }
   ],
   "source": [
    "fo = open('abc.txt')\n",
    "for i in range(5):\n",
    "    print(fo.readline())\n",
    "fo.close()\n"
   ]
  },
  {
   "cell_type": "markdown",
   "metadata": {},
   "source": [
    "### 04) WAP to find the longest word in a file named abc.txt"
   ]
  },
  {
   "cell_type": "code",
   "execution_count": 7,
   "metadata": {},
   "outputs": [
    {
     "name": "stdout",
     "output_type": "stream",
     "text": [
      "Python\n",
      "\n"
     ]
    }
   ],
   "source": [
    "fo = open('abc.txt')\n",
    "longestword=\"\"\n",
    "for line in fo.readlines():\n",
    "    for word in line.split(' '):\n",
    "        if len(word)>len(longestword):\n",
    "            longestword = word\n",
    "print(longestword)\n",
    "fo.close()"
   ]
  },
  {
   "cell_type": "markdown",
   "metadata": {},
   "source": [
    "### 05) WAP to find the size of the file named abc.txt"
   ]
  },
  {
   "cell_type": "code",
   "execution_count": 8,
   "metadata": {},
   "outputs": [
    {
     "name": "stdout",
     "output_type": "stream",
     "text": [
      "55 Bytes\n"
     ]
    }
   ],
   "source": [
    "import os\n",
    "fo = open('abc.txt')\n",
    "\n",
    "#Move the cursor to the end of the file\n",
    "fo.seek(0,os.SEEK_END)\n",
    "\n",
    "print(fo.tell(),\"Bytes\")"
   ]
  },
  {
   "cell_type": "markdown",
   "metadata": {},
   "source": [
    "### 06) WAP to implement search function to search specific occurance of word in a given text file."
   ]
  },
  {
   "cell_type": "code",
   "execution_count": 13,
   "metadata": {},
   "outputs": [
    {
     "name": "stdout",
     "output_type": "stream",
     "text": [
      "4  words found\n"
     ]
    }
   ],
   "source": [
    "fo=open(\"abc.txt\",\"r\")\n",
    "count=0\n",
    "word=input(\"Enter word to search:\")\n",
    "for line in fo.readlines():\n",
    "    for words in line.split(\" \"):\n",
    "        if words == word or word+\"\\n\" == words:\n",
    "            count+=1\n",
    "if count == 0:\n",
    "    print(\"No words found\")\n",
    "else:\n",
    "    print(count,\" words found\")\n",
    "fo.close()"
   ]
  },
  {
   "cell_type": "markdown",
   "metadata": {},
   "source": [
    "# B"
   ]
  },
  {
   "cell_type": "markdown",
   "metadata": {},
   "source": [
    "### 01) WAP to write first 100 prime numbers to a file named primenumbers.txt \n",
    "(Note: each number should be in new line)"
   ]
  },
  {
   "cell_type": "code",
   "execution_count": 14,
   "metadata": {},
   "outputs": [],
   "source": [
    "fo=open(\"primenumbers.txt\",\"w\")\n",
    "for i in range(2,101):\n",
    "    for j in range(2,i//2+1):\n",
    "        if i % j == 0:\n",
    "            break\n",
    "    else:\n",
    "        fo.write(str(i)+'\\n')\n",
    "fo.close()\n"
   ]
  },
  {
   "cell_type": "markdown",
   "metadata": {},
   "source": [
    "### 02) WAP to merge two files and write it in a new file."
   ]
  },
  {
   "cell_type": "code",
   "execution_count": 15,
   "metadata": {},
   "outputs": [],
   "source": [
    "with open(\"merge.txt\",\"w\") as merge_file:\n",
    "    with open(\"abc.txt\",\"r\") as file_1:\n",
    "        merge_file.write(file_1.read())\n",
    "    with open(\"primenumbers.txt\",\"r\") as file_2:\n",
    "        merge_file.write(file_2.read())"
   ]
  },
  {
   "cell_type": "markdown",
   "metadata": {},
   "source": [
    "### 03) WAP to encrypt a text file."
   ]
  },
  {
   "cell_type": "code",
   "execution_count": 17,
   "metadata": {},
   "outputs": [],
   "source": [
    "word=input(\"Enter word:\")\n",
    "key=int(input(\"Enter key:\"))\n",
    "encoded=\"\"\n",
    "with open(\"encrypt.txt\", \"w\") as encrypt:\n",
    "    for i in word:\n",
    "        asciii=ord(i)+key\n",
    "        if i.islower():\n",
    "            encoded=encoded+chr((asciii//123)*97+asciii % (123))\n",
    "        else:\n",
    "            encoded=encoded+chr((asciii//91)*65+asciii % (91))\n",
    "    encrypt.write(encoded)"
   ]
  },
  {
   "cell_type": "markdown",
   "metadata": {},
   "source": [
    "### 04) WAP to decrypt a previously encrypted file."
   ]
  },
  {
   "cell_type": "code",
   "execution_count": 18,
   "metadata": {},
   "outputs": [],
   "source": [
    "key=int(input(\"Enter Key:\"))\n",
    "decoded=\"\"\n",
    "with open(\"decrypt.txt\",\"w\") as decrypt:\n",
    "    with open(\"encrypt.txt\",\"r\") as encrypt:\n",
    "        for i in encrypt.read():\n",
    "            asc=ord(i)-key\n",
    "            if (i.islower() and asc < 97) or (i.isupper() and asc < 65):\n",
    "                asc=26+asc\n",
    "            decoded=decoded+chr(asc)\n",
    "        decrypt.write(decoded)"
   ]
  },
  {
   "cell_type": "markdown",
   "metadata": {},
   "source": [
    "### 05) WAP to remove a word from text file."
   ]
  },
  {
   "cell_type": "code",
   "execution_count": 20,
   "metadata": {},
   "outputs": [
    {
     "ename": "TypeError",
     "evalue": "'str' object is not callable",
     "output_type": "error",
     "traceback": [
      "\u001b[1;31m---------------------------------------------------------------------------\u001b[0m",
      "\u001b[1;31mTypeError\u001b[0m                                 Traceback (most recent call last)",
      "Cell \u001b[1;32mIn[20], line 8\u001b[0m\n\u001b[0;32m      6\u001b[0m             list1\u001b[39m.\u001b[39mappend(word)\n\u001b[0;32m      7\u001b[0m list1\u001b[39m.\u001b[39mremove(words)\n\u001b[1;32m----> 8\u001b[0m list1\u001b[39m=\u001b[39m\u001b[39mlist\u001b[39;49m(\u001b[39mfilter\u001b[39;49m((words),list1))\n\u001b[0;32m      9\u001b[0m \u001b[39mprint\u001b[39m(list1)\n",
      "\u001b[1;31mTypeError\u001b[0m: 'str' object is not callable"
     ]
    }
   ],
   "source": [
    "words=input(\"Enter word to remove:\")\n",
    "list1 = []\n",
    "with open(\"abc.txt\", \"r\") as abc:\n",
    "    for line in abc.readlines():\n",
    "        for word in line.split(\" \"):\n",
    "            list1.append(word)\n",
    "list1.remove(words)\n",
    "list1=list(filter((words),list1))\n",
    "print(list1)"
   ]
  }
 ],
 "metadata": {
  "kernelspec": {
   "display_name": "Python 3",
   "language": "python",
   "name": "python3"
  },
  "language_info": {
   "codemirror_mode": {
    "name": "ipython",
    "version": 3
   },
   "file_extension": ".py",
   "mimetype": "text/x-python",
   "name": "python",
   "nbconvert_exporter": "python",
   "pygments_lexer": "ipython3",
   "version": "3.11.0"
  },
  "vscode": {
   "interpreter": {
    "hash": "b98f472bb8ba48098397e3b897b5be76f7bf0e62d98845cdb0e8066dc5677259"
   }
  }
 },
 "nbformat": 4,
 "nbformat_minor": 4
}
