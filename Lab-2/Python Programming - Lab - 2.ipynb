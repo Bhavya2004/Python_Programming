{
 "cells": [
  {
   "cell_type": "markdown",
   "metadata": {},
   "source": [
    "\n",
    "<a href='https://www.darshan.ac.in/'> <img src='https://www.darshan.ac.in/Content/media/DU_Logo.svg' width=\"250\" height=\"300\"/></a>\n",
    "<pre>\n",
    "<center><b><h1>Python Programming - 2101CS405</b></center>\n",
    "<center><b><h1>Lab - 2</b></center>    \n",
    "<pre>"
   ]
  },
  {
   "cell_type": "markdown",
   "metadata": {},
   "source": [
    "# if..else.."
   ]
  },
  {
   "cell_type": "markdown",
   "metadata": {},
   "source": [
    "### 01) WAP to check whether the given number is positive or negative."
   ]
  },
  {
   "cell_type": "code",
   "execution_count": 3,
   "metadata": {},
   "outputs": [
    {
     "name": "stdout",
     "output_type": "stream",
     "text": [
      "-4 is negative\n"
     ]
    }
   ],
   "source": [
    "a=int(input(\"Enter your number:\"))\n",
    "if a>0:\n",
    "    print(f\"{a} is positive\")\n",
    "else:\n",
    "    print(f\"{a} is negative\")"
   ]
  },
  {
   "cell_type": "markdown",
   "metadata": {},
   "source": [
    "### 02) WAP to check whether the given number is odd or even"
   ]
  },
  {
   "cell_type": "code",
   "execution_count": 7,
   "metadata": {},
   "outputs": [
    {
     "name": "stdout",
     "output_type": "stream",
     "text": [
      "8882 is even\n"
     ]
    }
   ],
   "source": [
    "a=int(input(\"Enter your number:\"))\n",
    "if a%2==0:\n",
    "    print(f\"{a} is even\")\n",
    "else:\n",
    "    print(f\"{a} is odd\")"
   ]
  },
  {
   "cell_type": "markdown",
   "metadata": {},
   "source": [
    "### 03) WAP to find out largest number from given two numbers using simple if and ternary operator."
   ]
  },
  {
   "cell_type": "code",
   "execution_count": 9,
   "metadata": {},
   "outputs": [
    {
     "name": "stdout",
     "output_type": "stream",
     "text": [
      "45 is largest number\n",
      "Ternary : 45 Is Largest\n"
     ]
    }
   ],
   "source": [
    "#  Using Simple If\n",
    "a = int(input(\"Enter 1st number : \"))\n",
    "b = int(input(\"Enter 2nd number : \"))\n",
    "if a>=b:\n",
    "    print(f\"{a} is largest number\")\n",
    "else:\n",
    "    print(f\"{b} is larget number\")\n",
    "\n",
    "#  Using Ternary Operator\n",
    "print(f\"Ternary : {a} Is Largest\" if a > b else f\"Ternary : {b} Is Largest\")"
   ]
  },
  {
   "cell_type": "markdown",
   "metadata": {},
   "source": [
    "### 04) WAP to find out largest number from given three numbers."
   ]
  },
  {
   "cell_type": "code",
   "execution_count": 11,
   "metadata": {},
   "outputs": [
    {
     "name": "stdout",
     "output_type": "stream",
     "text": [
      "49 is largest\n"
     ]
    }
   ],
   "source": [
    "a = int(input(\"Enter  Number 1: \"))\n",
    "b = int(input(\"Enter  Number 2: \"))\n",
    "c = int(input(\"Enter  Number 3: \"))\n",
    "print(a if a > b and a > c else b if b > c else c, \"is largest\")"
   ]
  },
  {
   "cell_type": "markdown",
   "metadata": {},
   "source": [
    "### 05) WAP to check whether the given year is leap year or not.\n",
    "[If a year can be divisible by 4 but not divisible by 100 then it is leap year but if it is divisible by 400 then it is leap year]"
   ]
  },
  {
   "cell_type": "code",
   "execution_count": 13,
   "metadata": {},
   "outputs": [
    {
     "name": "stdout",
     "output_type": "stream",
     "text": [
      "Leap year\n"
     ]
    }
   ],
   "source": [
    "y = int(input(\"Enter a Year : \"))\n",
    "if(y%400==0 or (y%4==0 and y%100!=0)):\n",
    "    print(\"Leap year\")\n",
    "else:\n",
    "    print(\"Not a Leap year\")"
   ]
  },
  {
   "cell_type": "markdown",
   "metadata": {},
   "source": [
    "### 06) WAP in python to display the name of the day according to the number given by the user"
   ]
  },
  {
   "cell_type": "code",
   "execution_count": 14,
   "metadata": {},
   "outputs": [
    {
     "name": "stdout",
     "output_type": "stream",
     "text": [
      "Thursday\n"
     ]
    }
   ],
   "source": [
    "d = int(input(\"Enter a number : \"))\n",
    "if d==1:\n",
    "    print(\"Sunday\")\n",
    "elif d==2:\n",
    "    print(\"Monday\")\n",
    "elif d==3:\n",
    "    print(\"Tuesday\")\n",
    "elif d==4:\n",
    "    print(\"Wednesday\")\n",
    "elif d==5:\n",
    "    print(\"Thursday\")\n",
    "elif d==6:\n",
    "    print(\"Friday\")\n",
    "elif d==7:\n",
    "    print(\"Saturday\")\n",
    "else:\n",
    "    print(\"Invalid number\")"
   ]
  },
  {
   "cell_type": "markdown",
   "metadata": {},
   "source": [
    "### 07) WAP to implement simple calculator which performs (add,sub,mul,div) of two no. based on user input."
   ]
  },
  {
   "cell_type": "code",
   "execution_count": 16,
   "metadata": {},
   "outputs": [
    {
     "name": "stdout",
     "output_type": "stream",
     "text": [
      "The Subtraction Of 4 and 6 is  -2\n"
     ]
    }
   ],
   "source": [
    "a = int(input(\"Enter 1st Number : \"))\n",
    "b = int(input(\"Enter 2nd Number : \"))\n",
    "sign = input(\"Enter Operation : \")\n",
    "\n",
    "if sign == '+':\n",
    "    print(f\"The Addition Of {a} and {b} is \", a + b)\n",
    "\n",
    "elif sign == '-':\n",
    "    print(f\"The Subtraction Of {a} and {b} is \", a - b)\n",
    "\n",
    "elif sign == '*':\n",
    "    print(f\"The Multiplication Of {a} and {b} is \", a * b)\n",
    "\n",
    "elif sign == '/':\n",
    "    print(f\"The Division Of {a} and {b} is \", a / b)"
   ]
  },
  {
   "cell_type": "markdown",
   "metadata": {},
   "source": [
    "### 08) WAP to calculate electricity bill based on following criteria. Which takes the unit from the user.\n",
    "a. First 1 to 50 units – Rs. 2.60/unit</br>\n",
    "b. Next 50 to 100 units – Rs. 3.25/unit</br>\n",
    "c. Next 100 to 200 units – Rs. 5.26/unit</br>\n",
    "d. above 200 units – Rs. 8.45/unit"
   ]
  },
  {
   "cell_type": "code",
   "execution_count": 18,
   "metadata": {},
   "outputs": [
    {
     "name": "stdout",
     "output_type": "stream",
     "text": [
      "For 46 Units Bill Is Rs. 119.60000000000001\n"
     ]
    }
   ],
   "source": [
    "unit = int(input(\"Enter Units : \"))\n",
    "if unit >= 1 and unit <= 50:\n",
    "    print(f\"For {unit} Units Bill Is Rs.\", (unit*2.60))\n",
    "elif unit <= 100:\n",
    "    print(f\"For {unit} Units Bill Is Rs.\", (130+(unit-50)*3.25))\n",
    "elif unit <= 200:\n",
    "    print(f\"For {unit} Units Bill Is Rs.\", (292.5+(unit-100)*5.26))\n",
    "elif unit > 200:\n",
    "    print(f\"For {unit} Units Bill Is Rs.\", (818.5+(unit-200)*8.45))"
   ]
  },
  {
   "cell_type": "markdown",
   "metadata": {},
   "source": [
    "### 01) WAP to read marks of five subjects. Calculate percentage and print class accordingly. \n",
    "Fail below 35 </br>\n",
    "Pass Class between 35 to 45 </br>\n",
    "Second Class</br>\n",
    "between 45 to 60</br>\n",
    "First Class between 60 to 70</br> \n",
    "Distinction if more than 70"
   ]
  },
  {
   "cell_type": "code",
   "execution_count": 19,
   "metadata": {},
   "outputs": [
    {
     "name": "stdout",
     "output_type": "stream",
     "text": [
      "Class : Distiction\n"
     ]
    }
   ],
   "source": [
    "a = int(input(\"Enter marks of 1st Subject : \"))\n",
    "b = int(input(\"Enter marks of 2nd Subject : \"))\n",
    "c = int(input(\"Enter marks of 3rd Subject : \"))\n",
    "d = int(input(\"Enter marks of 4th Subject : \"))\n",
    "e = int(input(\"Enter marks of 5th Subject : \"))\n",
    "\n",
    "percentage = (a+b+c+d+e)/5\n",
    "\n",
    "if percentage<35:\n",
    "    print(\"Class : Fail\")\n",
    "elif percentage>=35 and percentage<45:\n",
    "    print(\"Class : Pass\")\n",
    "elif percentage<60:\n",
    "    print(\"Class : Second\")\n",
    "elif percentage < 70:\n",
    "    print(\"Class : First\")\n",
    "else:\n",
    "    print(\"Class : Distiction\")"
   ]
  },
  {
   "cell_type": "markdown",
   "metadata": {},
   "source": [
    "### 02) WAP to find out the Maximum and Minimum number from given 4 numbers."
   ]
  },
  {
   "cell_type": "code",
   "execution_count": 20,
   "metadata": {},
   "outputs": [
    {
     "name": "stdout",
     "output_type": "stream",
     "text": [
      "98 is Maximum\n",
      "1 is Minimum\n"
     ]
    }
   ],
   "source": [
    "a = int(input(\"Enter A Number : \"))\n",
    "b = int(input(\"Enter A Number : \"))\n",
    "c = int(input(\"Enter A Number : \"))\n",
    "d = int(input(\"Enter A Number : \"))\n",
    "\n",
    "print(a if a > b and a > c and a > d else b if b >\n",
    "      c and b > d else c if c > d else d, \"is Maximum\")\n",
    "\n",
    "print(a if a < b and a < c and a < d else b if b <\n",
    "      c and b < d else c if c < d else d, \"is Minimum\")"
   ]
  },
  {
   "cell_type": "markdown",
   "metadata": {},
   "source": [
    "### 03) WAP to input an integer number and check the last digit of number is even or odd."
   ]
  },
  {
   "cell_type": "code",
   "execution_count": 21,
   "metadata": {},
   "outputs": [
    {
     "name": "stdout",
     "output_type": "stream",
     "text": [
      "Last digit of 78 is even\n"
     ]
    }
   ],
   "source": [
    "n = int(input(\"Enter a number : \"))\n",
    "if (n%10)%2==0:\n",
    "    print(f\"Last digit of {n} is even\")\n",
    "else:\n",
    "    print(f\"Last digit of {n} is odd\")"
   ]
  },
  {
   "cell_type": "markdown",
   "metadata": {},
   "source": [
    "### 04) WAP to determine the roots of the equation ax2+bx+c=0."
   ]
  },
  {
   "cell_type": "code",
   "execution_count": 23,
   "metadata": {},
   "outputs": [
    {
     "name": "stdout",
     "output_type": "stream",
     "text": [
      "complex root is : -0.575 + i 1.9797411446954372\n",
      "complex root is : -0.575 - i 1.9797411446954372\n"
     ]
    }
   ],
   "source": [
    "import math\n",
    "a = int(input(\"Enter a : \"))\n",
    "b = int(input(\"Enter b : \"))\n",
    "c = int(input(\"Enter c : \"))\n",
    "\n",
    "d = (b*b)-(4*a*c)\n",
    "sqrtOfd = math.sqrt(abs(d))\n",
    "if d==0:\n",
    "    print(f\"Both same roots are : {(-b)/(2*a)}\")\n",
    "elif d>0:\n",
    "    print(f\"Real root is : {(-b+sqrtOfd)/(2*a)}\")\n",
    "    print(f\"Real root is : {(-b-sqrtOfd)/(2*a)}\")\n",
    "else:\n",
    "    print(f\"complex root is : {((-b)/(2*a))} + i {(sqrtOfd/(2*a))}\")\n",
    "    print(f\"complex root is : {((-b)/(2*a))} - i {(sqrtOfd/(2*a))}\")"
   ]
  }
 ],
 "metadata": {
  "kernelspec": {
   "display_name": "Python 3",
   "language": "python",
   "name": "python3"
  },
  "language_info": {
   "codemirror_mode": {
    "name": "ipython",
    "version": 3
   },
   "file_extension": ".py",
   "mimetype": "text/x-python",
   "name": "python",
   "nbconvert_exporter": "python",
   "pygments_lexer": "ipython3",
   "version": "3.11.0"
  },
  "vscode": {
   "interpreter": {
    "hash": "b98f472bb8ba48098397e3b897b5be76f7bf0e62d98845cdb0e8066dc5677259"
   }
  }
 },
 "nbformat": 4,
 "nbformat_minor": 4
}
