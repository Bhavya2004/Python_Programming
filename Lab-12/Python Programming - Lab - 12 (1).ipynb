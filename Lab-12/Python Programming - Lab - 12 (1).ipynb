{
 "cells": [
  {
   "cell_type": "markdown",
   "metadata": {},
   "source": [
    "<a href='https://www.darshan.ac.in/'> <img src='https://www.darshan.ac.in/Content/media/DU_Logo.svg' width=\"250\" height=\"300\"/></a>\n",
    "<pre>\n",
    "<center><b><h1>Python Programming - 2101CS405</b></center>\n",
    "<center><b><h1>Lab - 12</b></center>    \n",
    "<pre>"
   ]
  },
  {
   "cell_type": "markdown",
   "metadata": {},
   "source": [
    "# OOP"
   ]
  },
  {
   "cell_type": "markdown",
   "metadata": {},
   "source": [
    "### 01) Write a Program to create a class by name Students, and initialize attributes like name, age, and grade while creating an object."
   ]
  },
  {
   "cell_type": "code",
   "execution_count": 1,
   "metadata": {},
   "outputs": [
    {
     "name": "stdout",
     "output_type": "stream",
     "text": [
      "Name: Bhavya\n",
      "Age: 19\n",
      "Grade: 10th\n"
     ]
    }
   ],
   "source": [
    "class Student:\n",
    "    name=\"\"\n",
    "    age=0\n",
    "    grade=\"\"\n",
    "    def __init__(self, name, age, grade):\n",
    "        self.name = name\n",
    "        self.age = age\n",
    "        self.grade = grade\n",
    "\n",
    "# Create an object of the Student class and pass the required arguments\n",
    "obj = Student(\"Bhavya\", 19, \"10th\")\n",
    "\n",
    "# Access the attributes of the student object\n",
    "print(\"Name:\", obj.name)\n",
    "print(\"Age:\", obj.age)\n",
    "print(\"Grade:\", obj.grade)\n"
   ]
  },
  {
   "cell_type": "markdown",
   "metadata": {},
   "source": [
    "### 02) Create a class named Bank_Account with Account_No, User_Name, Email,Account_Type and Account_Balance data members. Also create a method GetAccountDetails() and DisplayAccountDetails(). Create main method to demonstrate the Bank_Account class."
   ]
  },
  {
   "cell_type": "code",
   "execution_count": 5,
   "metadata": {},
   "outputs": [
    {
     "name": "stdout",
     "output_type": "stream",
     "text": [
      "Enter Account Number: 012XXXX\n",
      "Enter User Name: Bhavya\n",
      "Enter Email: abc@gmail.com\n",
      "Enter Account Type: Savings\n",
      "Enter Account Balance: 50000\n",
      "\n",
      "Account Details:\n",
      "Account Number:  012XXXX\n",
      "User Name:  Bhavya\n",
      "Email:  abc@gmail.com\n",
      "Account Type:  Savings\n",
      "Account Balance:  50000.0\n"
     ]
    }
   ],
   "source": [
    "class Bank_Account:\n",
    "    account_no=0\n",
    "    user_name=\"\"\n",
    "    email=\"\"\n",
    "    account_type=\"\"\n",
    "    account_balance=0\n",
    "    \n",
    "    def GetAccountDetails(self):\n",
    "        self.account_no = input(\"Enter Account Number: \")\n",
    "        self.user_name = input(\"Enter User Name: \")\n",
    "        self.email = input(\"Enter Email: \")\n",
    "        self.account_type = input(\"Enter Account Type: \")\n",
    "        self.account_balance = float(input(\"Enter Account Balance: \"))\n",
    "\n",
    "    def DisplayAccountDetails(self):\n",
    "        print(\"Account Number: \", self.account_no)\n",
    "        print(\"User Name: \", self.user_name)\n",
    "        print(\"Email: \", self.email)\n",
    "        print(\"Account Type: \", self.account_type)\n",
    "        print(\"Account Balance: \", self.account_balance)\n",
    "    \n",
    "    def main(self):\n",
    "        self.GetAccountDetails()\n",
    "        print(\"\\nAccount Details:\")\n",
    "        self.DisplayAccountDetails()\n",
    "\n",
    "# Create a  object of Bank Account\n",
    "obj = Bank_Account()\n",
    "obj.main()\n",
    "\n",
    "\n"
   ]
  },
  {
   "cell_type": "markdown",
   "metadata": {},
   "source": [
    "### 03) WAP to create Circle class with area and perimeter function to find area and perimeter of circle."
   ]
  },
  {
   "cell_type": "code",
   "execution_count": 6,
   "metadata": {},
   "outputs": [
    {
     "name": "stdout",
     "output_type": "stream",
     "text": [
      "Area of circle with radius 5 is 78.5\n",
      "Perimeter of circle with radius 5 is 31.400000000000002\n"
     ]
    }
   ],
   "source": [
    "class Circle:\n",
    "    def __init__(self, radius):\n",
    "        self.radius = radius\n",
    "\n",
    "    def area(self):\n",
    "        return 3.14 * (self.radius ** 2)\n",
    "\n",
    "    def perimeter(self):\n",
    "        return 2 * 3.14 * self.radius\n",
    "\n",
    "# Create a Circle object with radius 5\n",
    "obj = Circle(5)\n",
    "\n",
    "# Calculate and display the area and perimeter of the circle\n",
    "print(\"Area of circle with radius\", obj.radius, \"is\", obj.area())\n",
    "print(\"Perimeter of circle with radius\", obj.radius, \"is\", obj.perimeter())\n"
   ]
  },
  {
   "cell_type": "markdown",
   "metadata": {},
   "source": [
    "### 04) Create a class for employees that includes attributes such as name, age, salary, and methods to update and display employee information."
   ]
  },
  {
   "cell_type": "code",
   "execution_count": 10,
   "metadata": {},
   "outputs": [
    {
     "name": "stdout",
     "output_type": "stream",
     "text": [
      "Name: Bhavya Barai\n",
      "Age: 19\n",
      "Salary: 50000\n",
      "\n",
      "Updated Info:\n",
      "Name: Jayesh Sir\n",
      "Age: 28\n",
      "Salary: 60000\n"
     ]
    }
   ],
   "source": [
    "class Employee:\n",
    "    def __init__(self, name, age, salary):\n",
    "        self.name = name\n",
    "        self.age = age\n",
    "        self.salary = salary\n",
    "\n",
    "    def update_info(self, name, age, salary):\n",
    "        self.name = name\n",
    "        self.age = age\n",
    "        self.salary = salary\n",
    "\n",
    "    def display_info(self):\n",
    "        print(\"Name:\", self.name)\n",
    "        print(\"Age:\", self.age)\n",
    "        print(\"Salary:\", self.salary)\n",
    "\n",
    "# Create an Employee object with initial info\n",
    "emp1 = Employee(\"Bhavya Barai\", 19, 50000)\n",
    "\n",
    "# Display the initial info\n",
    "emp1.display_info()\n",
    "\n",
    "# Update the employee info\n",
    "emp1.update_info(\"Jayesh Sir\", 28, 60000)\n",
    "\n",
    "# Display the updated info\n",
    "print(\"\\nUpdated Info:\")\n",
    "emp1.display_info()\n"
   ]
  },
  {
   "cell_type": "markdown",
   "metadata": {},
   "source": [
    "### 05) Create a bank account class with methods to deposit, withdraw, and check balance."
   ]
  },
  {
   "cell_type": "code",
   "execution_count": 9,
   "metadata": {},
   "outputs": [
    {
     "name": "stdout",
     "output_type": "stream",
     "text": [
      "Current balance is 5000.\n",
      "Deposited 1000 successfully. New balance is 6000.\n",
      "Withdrawn 2000 successfully. New balance is 4000.\n",
      "Current balance is 4000.\n"
     ]
    }
   ],
   "source": [
    "class BankAccount:\n",
    "    def __init__(self, balance=0):\n",
    "        self.balance = balance\n",
    "\n",
    "    def deposit(self, amount):\n",
    "        self.balance += amount\n",
    "        print(f\"Deposited {amount} successfully. New balance is {self.balance}.\")\n",
    "\n",
    "    def withdraw(self, amount):\n",
    "        if amount > self.balance:\n",
    "            print(\"Insufficient balance.\")\n",
    "        else:\n",
    "            self.balance -= amount\n",
    "            print(f\"Withdrawn {amount} successfully. New balance is {self.balance}.\")\n",
    "\n",
    "    def check_balance(self):\n",
    "        print(f\"Current balance is {self.balance}.\")\n",
    "\n",
    "\n",
    "# Create a BankAccount object with initial balance\n",
    "account1 = BankAccount(5000)\n",
    "\n",
    "# Check the balance\n",
    "account1.check_balance()\n",
    "\n",
    "# Deposit some money\n",
    "account1.deposit(1000)\n",
    "\n",
    "# Withdraw some money\n",
    "account1.withdraw(2000)\n",
    "\n",
    "# Check the balance again\n",
    "account1.check_balance()\n"
   ]
  },
  {
   "cell_type": "markdown",
   "metadata": {},
   "source": [
    "### 06) Create a class for managing inventory that includes attributes such as item name, price, quantity, and methods to add, remove, and update items."
   ]
  },
  {
   "cell_type": "code",
   "execution_count": 10,
   "metadata": {},
   "outputs": [
    {
     "name": "stdout",
     "output_type": "stream",
     "text": [
      "10 Apple(s) added successfully.\n",
      "20 Banana(s) added successfully.\n",
      "Apple updated successfully.\n",
      "Banana removed successfully.\n",
      "Apple updated successfully.\n",
      "{'Apple': {'price': 0.6, 'quantity': 15}}\n"
     ]
    }
   ],
   "source": [
    "class Inventory:\n",
    "    def __init__(self):\n",
    "        self.items = {}\n",
    "\n",
    "    def add_item(self, item_name, price, quantity):\n",
    "        self.items[item_name] = {\"price\": price, \"quantity\": quantity}\n",
    "        print(f\"{quantity} {item_name}(s) added successfully.\")\n",
    "\n",
    "    def remove_item(self, item_name):\n",
    "        if item_name in self.items:\n",
    "            del self.items[item_name]\n",
    "            print(f\"{item_name} removed successfully.\")\n",
    "        else:\n",
    "            print(f\"{item_name} not found.\")\n",
    "\n",
    "    def update_item(self, item_name, price=None, quantity=None):\n",
    "        if item_name in self.items:\n",
    "            if price is not None:\n",
    "                self.items[item_name][\"price\"] = price\n",
    "            if quantity is not None:\n",
    "                self.items[item_name][\"quantity\"] = quantity\n",
    "            print(f\"{item_name} updated successfully.\")\n",
    "        else:\n",
    "            print(f\"{item_name} not found.\")\n",
    "\n",
    "\n",
    "# Create an Inventory object\n",
    "inventory1 = Inventory()\n",
    "\n",
    "# Add some items\n",
    "inventory1.add_item(\"Apple\", 0.5, 10)\n",
    "inventory1.add_item(\"Banana\", 0.25, 20)\n",
    "\n",
    "# Update an item's price\n",
    "inventory1.update_item(\"Apple\", 0.6)\n",
    "\n",
    "# Remove an item\n",
    "inventory1.remove_item(\"Banana\")\n",
    "\n",
    "# Update an item's quantity\n",
    "inventory1.update_item(\"Apple\", quantity=15)\n",
    "\n",
    "# Print the inventory\n",
    "print(inventory1.items)\n"
   ]
  },
  {
   "cell_type": "markdown",
   "metadata": {},
   "source": [
    "### 09) Create a Class with instance attributes"
   ]
  },
  {
   "cell_type": "code",
   "execution_count": 11,
   "metadata": {},
   "outputs": [
    {
     "name": "stdout",
     "output_type": "stream",
     "text": [
      "Name: Bhavya\n",
      "Age: 19\n",
      "Grade: 10th\n"
     ]
    }
   ],
   "source": [
    "class Student:\n",
    "    name=\"\"\n",
    "    age=0\n",
    "    grade=\"\"\n",
    "    def __init__(self, name, age, grade):\n",
    "        self.name = name\n",
    "        self.age = age\n",
    "        self.grade = grade\n",
    "\n",
    "# Create an object of the Student class and pass the required arguments\n",
    "obj = Student(\"Bhavya\", 19, \"10th\")\n",
    "\n",
    "# Access the attributes of the student object\n",
    "print(\"Name:\", obj.name)\n",
    "print(\"Age:\", obj.age)\n",
    "print(\"Grade:\", obj.grade)\n"
   ]
  },
  {
   "cell_type": "markdown",
   "metadata": {},
   "source": [
    "### 07)\n",
    "Create one class student_kit <br>\n",
    "Within the student_kit class create one class attribute principal name ( Mr ABC ) <br>\n",
    "Create one attendance method and take input as number of days. <br>\n",
    "While creating student take input their name . <br>\n",
    "Create one certificate for each student by taking input of number of days present in class. <br>"
   ]
  },
  {
   "cell_type": "code",
   "execution_count": 1,
   "metadata": {},
   "outputs": [
    {
     "name": "stdout",
     "output_type": "stream",
     "text": [
      "Certificate of Attendance\n",
      "\n",
      "This is to certify that John has attended 10 days of class.\n"
     ]
    }
   ],
   "source": [
    "class student_kit:\n",
    "    principal_name = \"Mr ABC\"\n",
    "    \n",
    "    def __init__(self, name):\n",
    "        self.name = name\n",
    "        self.attendance = 0\n",
    "        \n",
    "    def mark_attendance(self, num_days):\n",
    "        self.attendance += num_days\n",
    "    \n",
    "    def generate_certificate(self):\n",
    "        num_days_present = self.attendance\n",
    "        certificate = f\"Certificate of Attendance\\n\\nThis is to certify that {self.name} has attended {num_days_present} days of class.\"\n",
    "        return certificate\n",
    "# Create a new student object\n",
    "s = student_kit(\"John\")\n",
    "\n",
    "# Mark attendance for 10 days\n",
    "s.mark_attendance(10)\n",
    "\n",
    "# Generate certificate\n",
    "certificate = s.generate_certificate()\n",
    "print(certificate)\n"
   ]
  },
  {
   "cell_type": "markdown",
   "metadata": {},
   "source": [
    "### 08) Define Time class with hour and minute as data member. Also define addition method to add two time objects."
   ]
  },
  {
   "cell_type": "code",
   "execution_count": 2,
   "metadata": {},
   "outputs": [
    {
     "name": "stdout",
     "output_type": "stream",
     "text": [
      "5:30 + 2:45 = 8:15\n"
     ]
    }
   ],
   "source": [
    "class Time:\n",
    "    def __init__(self, hour=0, minute=0):\n",
    "        self.hour = hour\n",
    "        self.minute = minute\n",
    "    \n",
    "    def add(self, other):\n",
    "        new_minute = self.minute + other.minute\n",
    "        if new_minute >= 60:\n",
    "            new_minute -= 60\n",
    "            carry_hour = 1\n",
    "        else:\n",
    "            carry_hour = 0\n",
    "        new_hour = self.hour + other.hour + carry_hour\n",
    "        if new_hour >= 24:\n",
    "            new_hour -= 24\n",
    "        return Time(new_hour, new_minute)\n",
    "# Create two time objects\n",
    "t1 = Time(5, 30)\n",
    "t2 = Time(2, 45)\n",
    "\n",
    "# Add the two time objects using the add method\n",
    "t3 = t1.add(t2)\n",
    "\n",
    "# Print the result\n",
    "print(f\"{t1.hour}:{t1.minute} + {t2.hour}:{t2.minute} = {t3.hour}:{t3.minute}\")\n"
   ]
  },
  {
   "cell_type": "markdown",
   "metadata": {},
   "source": [
    "### 09) WAP to demonstrate inheritance in python."
   ]
  },
  {
   "cell_type": "code",
   "execution_count": 3,
   "metadata": {},
   "outputs": [
    {
     "name": "stdout",
     "output_type": "stream",
     "text": [
      "Parent class\n",
      "child class\n"
     ]
    }
   ],
   "source": [
    "class Parent():\n",
    "    def first(self):\n",
    "        print(\"Parent class\")\n",
    "class Child(Parent):\n",
    "    def second(self):\n",
    "        print(\"child class\")\n",
    "        \n",
    "obj=Child()\n",
    "obj.first()\n",
    "obj.second()"
   ]
  },
  {
   "cell_type": "markdown",
   "metadata": {},
   "source": [
    "### 10) Create a child class Bus that will inherit all of the variables and methods of the Vehicle class\n",
    "class Vehicle:\n",
    "\n",
    "    def __init__(self, name, max_speed, mileage):\n",
    "        self.name = name\n",
    "        self.max_speed = max_speed\n",
    "        self.mileage = mileage\n",
    "        \n",
    "Create a Bus object that will inherit all of the variables and methods of the parent Vehicle class and display it.        "
   ]
  },
  {
   "cell_type": "code",
   "execution_count": 4,
   "metadata": {},
   "outputs": [
    {
     "name": "stdout",
     "output_type": "stream",
     "text": [
      "Name: School Bus, Max Speed: 60, Mileage: 12\n"
     ]
    }
   ],
   "source": [
    "class Vehicle:\n",
    "    def __init__(self, name, max_speed, mileage):\n",
    "        self.name = name\n",
    "        self.max_speed = max_speed\n",
    "        self.mileage = mileage\n",
    "    \n",
    "    def display_info(self):\n",
    "        print(f\"Name: {self.name}, Max Speed: {self.max_speed}, Mileage: {self.mileage}\")\n",
    "\n",
    "class Bus(Vehicle):\n",
    "    pass\n",
    "\n",
    "# Create a Bus object and display its information\n",
    "bus = Bus(\"School Bus\", 60, 12)\n",
    "bus.display_info()\n"
   ]
  },
  {
   "cell_type": "markdown",
   "metadata": {},
   "source": [
    "### 11)  Create a class hierarchy for different types of animals, with a parent Animal class and child classes for specific animals like Cat, Dog, and Bird."
   ]
  },
  {
   "cell_type": "code",
   "execution_count": 7,
   "metadata": {},
   "outputs": [
    {
     "name": "stdout",
     "output_type": "stream",
     "text": [
      "Meow\n",
      "Woof\n",
      "Chirp\n"
     ]
    }
   ],
   "source": [
    "class Animal:\n",
    "    def __init__(self, name, species):\n",
    "        self.name = name\n",
    "        self.species = species\n",
    "    \n",
    "    def speak(self):\n",
    "        pass\n",
    "\n",
    "class Cat(Animal):\n",
    "    def __init__(self, name):\n",
    "        super().__init__(name, \"cat\")\n",
    "    \n",
    "    def speak(self):\n",
    "        print(\"Meow\")\n",
    "\n",
    "class Dog(Animal):\n",
    "    def __init__(self, name):\n",
    "        super().__init__(name, \"dog\")\n",
    "    \n",
    "    def speak(self):\n",
    "        print(\"Woof\")\n",
    "\n",
    "class Bird(Animal):\n",
    "    def __init__(self, name):\n",
    "        super().__init__(name, \"bird\")\n",
    "    \n",
    "    def speak(self):\n",
    "        print(\"Chirp\")\n",
    "\n",
    "# Example usage\n",
    "cat = Cat(\"Whiskers\")\n",
    "dog = Dog(\"Fido\")\n",
    "bird = Bird(\"Tweety\")\n",
    "\n",
    "cat.speak() \n",
    "dog.speak() \n",
    "bird.speak() \n"
   ]
  },
  {
   "cell_type": "markdown",
   "metadata": {},
   "source": [
    "### 12) Create a class hierarchy for different types of vehicles, with a parent Vehicle class and child classes for specific vehicles like Car, Truck, and Motorcycle."
   ]
  },
  {
   "cell_type": "code",
   "execution_count": 8,
   "metadata": {},
   "outputs": [
    {
     "name": "stdout",
     "output_type": "stream",
     "text": [
      "Starting the vehicle.\n",
      "Put the key in the ignition and turn it to start the car.\n",
      "Starting the vehicle.\n",
      "Turn the key to start the truck.\n",
      "Starting the vehicle.\n",
      "Push the starter button to start the motorcycle.\n"
     ]
    }
   ],
   "source": [
    "class Vehicle:\n",
    "    def __init__(self, make, model, year):\n",
    "        self.make = make\n",
    "        self.model = model\n",
    "        self.year = year\n",
    "    \n",
    "    def start(self):\n",
    "        print(\"Starting the vehicle.\")\n",
    "\n",
    "class Car(Vehicle):\n",
    "    def __init__(self, make, model, year, num_doors):\n",
    "        super().__init__(make, model, year)\n",
    "        self.num_doors = num_doors\n",
    "    \n",
    "    def start(self):\n",
    "        super().start()\n",
    "        print(\"Put the key in the ignition and turn it to start the car.\")\n",
    "\n",
    "class Truck(Vehicle):\n",
    "    def __init__(self, make, model, year, payload_capacity):\n",
    "        super().__init__(make, model, year)\n",
    "        self.payload_capacity = payload_capacity\n",
    "    \n",
    "    def start(self):\n",
    "        super().start()\n",
    "        print(\"Turn the key to start the truck.\")\n",
    "\n",
    "class Motorcycle(Vehicle):\n",
    "    def __init__(self, make, model, year):\n",
    "        super().__init__(make, model, year)\n",
    "    \n",
    "    def start(self):\n",
    "        super().start()\n",
    "        print(\"Push the starter button to start the motorcycle.\")\n",
    "\n",
    "# Create some vehicle objects and start them\n",
    "car = Car(\"Toyota\", \"Camry\", 2022, 4)\n",
    "car.start()\n",
    "\n",
    "truck = Truck(\"Ford\", \"F-150\", 2021, 1500)\n",
    "truck.start()\n",
    "\n",
    "motorcycle = Motorcycle(\"Harley-Davidson\", \"Sportster\", 2019)\n",
    "motorcycle.start()\n"
   ]
  },
  {
   "cell_type": "markdown",
   "metadata": {},
   "source": [
    "### 13)  Create a class hierarchy for different types of bank accounts, with a parent Account class and child classes for specific account types like Checking, Savings, and Credit."
   ]
  },
  {
   "cell_type": "code",
   "execution_count": 9,
   "metadata": {},
   "outputs": [
    {
     "name": "stdout",
     "output_type": "stream",
     "text": [
      "500\n",
      "5050.0\n",
      "-300\n"
     ]
    }
   ],
   "source": [
    "class Account:\n",
    "    def __init__(self, account_number, balance):\n",
    "        self.account_number = account_number\n",
    "        self.balance = balance\n",
    "    \n",
    "    def deposit(self, amount):\n",
    "        self.balance += amount\n",
    "    \n",
    "    def withdraw(self, amount):\n",
    "        if self.balance >= amount:\n",
    "            self.balance -= amount\n",
    "        else:\n",
    "            print(\"Insufficient funds\")\n",
    "    \n",
    "    def get_balance(self):\n",
    "        return self.balance\n",
    "\n",
    "class Checking(Account):\n",
    "    def __init__(self, account_number, balance):\n",
    "        super().__init__(account_number, balance)\n",
    "        self.transaction_limit = 3\n",
    "        self.transaction_count = 0\n",
    "    \n",
    "    def withdraw(self, amount):\n",
    "        if self.transaction_count < self.transaction_limit:\n",
    "            super().withdraw(amount)\n",
    "            self.transaction_count += 1\n",
    "        else:\n",
    "            print(\"Transaction limit exceeded.\")\n",
    "    \n",
    "    def reset_transactions(self):\n",
    "        self.transaction_count = 0\n",
    "\n",
    "class Savings(Account):\n",
    "    def __init__(self, account_number, balance):\n",
    "        super().__init__(account_number, balance)\n",
    "        self.interest_rate = 0.01\n",
    "    \n",
    "    def add_interest(self):\n",
    "        interest = self.balance * self.interest_rate\n",
    "        self.balance += interest\n",
    "\n",
    "class Credit(Account):\n",
    "    def __init__(self, account_number, balance, credit_limit):\n",
    "        super().__init__(account_number, balance)\n",
    "        self.credit_limit = credit_limit\n",
    "    \n",
    "    def withdraw(self, amount):\n",
    "        if self.balance + self.credit_limit >= amount:\n",
    "            self.balance -= amount\n",
    "        else:\n",
    "            print(\"Exceeded credit limit.\")\n",
    "\n",
    "checking = Checking(\"123456789\", 1000)\n",
    "checking.withdraw(500)\n",
    "print(checking.get_balance())  # Output: 500\n",
    "checking.reset_transactions()\n",
    "\n",
    "savings = Savings(\"987654321\", 5000)\n",
    "savings.add_interest()\n",
    "print(savings.get_balance())  # Output: 5050\n",
    "\n",
    "credit = Credit(\"24681012\", 0, 1000)\n",
    "credit.deposit(500)\n",
    "credit.withdraw(800)\n",
    "print(credit.get_balance())  # Output: -300\n"
   ]
  },
  {
   "cell_type": "markdown",
   "metadata": {},
   "source": [
    "### 14) Create a Shape class with a draw method that is not implemented. Create three child classes Rectangle, Circle, and Triangle that implement the draw method with their respective drawing behaviors. Create a list of Shape objects that includes one instance of each child class, and then iterate through the list and call the draw method on each object."
   ]
  },
  {
   "cell_type": "code",
   "execution_count": 10,
   "metadata": {},
   "outputs": [
    {
     "name": "stdout",
     "output_type": "stream",
     "text": [
      "Drawing a rectangle\n",
      "Drawing a circle\n",
      "Drawing a triangle\n"
     ]
    }
   ],
   "source": [
    "import math\n",
    "\n",
    "class Shape:\n",
    "    def draw(self):\n",
    "        pass\n",
    "\n",
    "class Rectangle(Shape):\n",
    "    def draw(self):\n",
    "        print(\"Drawing a rectangle\")\n",
    "\n",
    "class Circle(Shape):\n",
    "    def draw(self):\n",
    "        print(\"Drawing a circle\")\n",
    "\n",
    "class Triangle(Shape):\n",
    "    def draw(self):\n",
    "        print(\"Drawing a triangle\")\n",
    "\n",
    "shapes = [Rectangle(), Circle(), Triangle()]\n",
    "\n",
    "for shape in shapes:\n",
    "    shape.draw()\n"
   ]
  },
  {
   "cell_type": "markdown",
   "metadata": {},
   "source": [
    "### 15) Create a Person class with a constructor that takes two arguments name and age. Create a child class Employee that inherits from Person and adds a new attribute salary. Override the __init__ method in Employee to call the parent class's __init__ method using the super keyword, and then initialize the salary attribute."
   ]
  },
  {
   "cell_type": "code",
   "execution_count": 11,
   "metadata": {},
   "outputs": [
    {
     "name": "stdout",
     "output_type": "stream",
     "text": [
      "John\n",
      "30\n",
      "50000\n"
     ]
    }
   ],
   "source": [
    "class Person:\n",
    "    def __init__(self, name, age):\n",
    "        self.name = name\n",
    "        self.age = age\n",
    "\n",
    "class Employee(Person):\n",
    "    def __init__(self, name, age, salary):\n",
    "        super().__init__(name, age)\n",
    "        self.salary = salary\n",
    "\n",
    "emp = Employee(\"John\", 30, 50000)\n",
    "print(emp.name)    # Output: John\n",
    "print(emp.age)     # Output: 30\n",
    "print(emp.salary)  # Output: 50000\n"
   ]
  }
 ],
 "metadata": {
  "kernelspec": {
   "display_name": "Python 3 (ipykernel)",
   "language": "python",
   "name": "python3"
  },
  "language_info": {
   "codemirror_mode": {
    "name": "ipython",
    "version": 3
   },
   "file_extension": ".py",
   "mimetype": "text/x-python",
   "name": "python",
   "nbconvert_exporter": "python",
   "pygments_lexer": "ipython3",
   "version": "3.9.13"
  }
 },
 "nbformat": 4,
 "nbformat_minor": 4
}
