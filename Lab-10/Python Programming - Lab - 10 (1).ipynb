{
 "cells": [
  {
   "cell_type": "markdown",
   "metadata": {},
   "source": [
    "<a href='https://www.darshan.ac.in/'> <img src='https://www.darshan.ac.in/Content/media/DU_Logo.svg' width=\"250\" height=\"300\"/></a>\n",
    "<pre>\n",
    "<center><b><h1>Python Programming - 2101CS405</b></center>\n",
    "<center><b><h1>Lab - 10</b></center>    \n",
    "<pre>"
   ]
  },
  {
   "cell_type": "markdown",
   "metadata": {},
   "source": [
    "# Modules"
   ]
  },
  {
   "cell_type": "markdown",
   "metadata": {},
   "source": [
    "# A"
   ]
  },
  {
   "cell_type": "markdown",
   "metadata": {},
   "source": [
    "### 01) WAP to create Calculator module which defines functions like add, sub,mul and div. create another file that uses the Calculator module."
   ]
  },
  {
   "cell_type": "code",
   "execution_count": 2,
   "metadata": {},
   "outputs": [
    {
     "name": "stdout",
     "output_type": "stream",
     "text": [
      "Enter first number: 7\n",
      "Enter second number: 8\n",
      "Addition:  15.0\n",
      "Subtraction:  -1.0\n",
      "Multiplication:  56.0\n",
      "Division:  0.875\n"
     ]
    }
   ],
   "source": [
    "import calculator #import from calculator.py fime created\n",
    "\n",
    "num1 = float(input(\"Enter first number: \"))\n",
    "num2 = float(input(\"Enter second number: \"))\n",
    "\n",
    "print(\"Addition: \", calculator.add(num1, num2))\n",
    "print(\"Subtraction: \", calculator.sub(num1, num2))\n",
    "print(\"Multiplication: \", calculator.mul(num1, num2))\n",
    "print(\"Division: \", calculator.div(num1, num2))\n"
   ]
  },
  {
   "cell_type": "markdown",
   "metadata": {},
   "source": [
    "### 02) WAP to Pick a random character from a given String."
   ]
  },
  {
   "cell_type": "code",
   "execution_count": 4,
   "metadata": {},
   "outputs": [
    {
     "name": "stdout",
     "output_type": "stream",
     "text": [
      "Enter a string: darshan\n",
      "Random character:  n\n"
     ]
    }
   ],
   "source": [
    "import random\n",
    "\n",
    "def pick_random_character(string):\n",
    "    return random.choice(string)\n",
    "\n",
    "input_string = input(\"Enter a string: \")\n",
    "print(\"Random character: \", pick_random_character(input_string))\n"
   ]
  },
  {
   "cell_type": "markdown",
   "metadata": {},
   "source": [
    "### 03) WAP to Pick a random element from a given list."
   ]
  },
  {
   "cell_type": "code",
   "execution_count": 6,
   "metadata": {},
   "outputs": [
    {
     "name": "stdout",
     "output_type": "stream",
     "text": [
      "Random element:  8\n"
     ]
    }
   ],
   "source": [
    "import random\n",
    "\n",
    "def pick_random_element(lst):\n",
    "    return random.choice(lst)\n",
    "\n",
    "input_list = [1, 2, 3, 4, 5, 6, 7, 8, 9]\n",
    "print(\"Random element: \", pick_random_element(input_list))\n"
   ]
  },
  {
   "cell_type": "markdown",
   "metadata": {},
   "source": [
    "### 04) WAP to demonstrate the use of the math module."
   ]
  },
  {
   "cell_type": "code",
   "execution_count": 7,
   "metadata": {},
   "outputs": [
    {
     "name": "stdout",
     "output_type": "stream",
     "text": [
      "The square root of 100 is 10.0\n",
      "The logarithm of 100 to the base 10 is 2.0\n",
      "The cosine of 0.7853981633974483 is 0.7071067811865476\n",
      "The factorial of 5 is 120\n",
      "The floor value of 5.7 is 5\n"
     ]
    }
   ],
   "source": [
    "import math\n",
    "\n",
    "# calculate the square root of a number\n",
    "number = 100\n",
    "square_root = math.sqrt(number)\n",
    "print(\"The square root of\", number, \"is\", square_root)\n",
    "\n",
    "# calculate the logarithm of a number to the base 10\n",
    "logarithm = math.log10(number)\n",
    "print(\"The logarithm of\", number, \"to the base 10 is\", logarithm)\n",
    "\n",
    "# calculate the cosine of an angle in radians\n",
    "angle = math.pi / 4\n",
    "cosine = math.cos(angle)\n",
    "print(\"The cosine of\", angle, \"is\", cosine)\n",
    "\n",
    "# Calculate the factorial of a number\n",
    "number = 5\n",
    "factorial = math.factorial(number)\n",
    "print(\"The factorial of\", number, \"is\", factorial)\n",
    "\n",
    "# Calculate the floor value of a number\n",
    "number = 5.7\n",
    "floor = math.floor(number)\n",
    "print(\"The floor value of\", number, \"is\", floor)"
   ]
  },
  {
   "cell_type": "markdown",
   "metadata": {},
   "source": [
    "### 05) WAP to demonstrate the use of date time module."
   ]
  },
  {
   "cell_type": "code",
   "execution_count": 8,
   "metadata": {},
   "outputs": [
    {
     "name": "stdout",
     "output_type": "stream",
     "text": [
      "The current date and time is: 2023-02-08 13:14:55.519690\n",
      "The current date is: 2023-02-08\n",
      "The current time is: 13:14:55.520835\n",
      "The formatted date and time is: 2023-02-08 13:14:55\n",
      "The datetime object from the string is: 2022-05-24 12:30:00\n",
      "The difference between the current datetime and the datetime object is: 260 days, 0:44:55.519690\n"
     ]
    }
   ],
   "source": [
    "import datetime\n",
    "\n",
    "# Get the current date and time\n",
    "current_datetime = datetime.datetime.now()\n",
    "print(\"The current date and time is:\", current_datetime)\n",
    "\n",
    "# Get the current date\n",
    "current_date = datetime.date.today()\n",
    "print(\"The current date is:\", current_date)\n",
    "\n",
    "# Get the current time\n",
    "current_time = datetime.datetime.now().time()\n",
    "print(\"The current time is:\", current_time)\n",
    "\n",
    "# Format the date and time into a string\n",
    "format = \"%Y-%m-%d %H:%M:%S\"\n",
    "formatted_datetime = current_datetime.strftime(format)\n",
    "print(\"The formatted date and time is:\", formatted_datetime)\n",
    "\n",
    "# Convert a string to a datetime object\n",
    "datetime_string = \"2022-05-24 12:30:00\"\n",
    "datetime_object = datetime.datetime.strptime(datetime_string, format)\n",
    "print(\"The datetime object from the string is:\", datetime_object)\n",
    "\n",
    "# Perform arithmetic operations with datetime objects\n",
    "difference = current_datetime - datetime_object\n",
    "print(\"The difference between the current datetime and the datetime object is:\", difference)\n"
   ]
  },
  {
   "cell_type": "markdown",
   "metadata": {},
   "source": [
    "# B"
   ]
  },
  {
   "cell_type": "markdown",
   "metadata": {},
   "source": [
    "### 01) WAP to Roll dice in such a way that every time you get the same number."
   ]
  },
  {
   "cell_type": "code",
   "execution_count": 12,
   "metadata": {},
   "outputs": [
    {
     "name": "stdout",
     "output_type": "stream",
     "text": [
      "2\n"
     ]
    }
   ],
   "source": [
    "import random\n",
    "\n",
    "li=[1,2,3,4,5,6]\n",
    "random.seed(1)\n",
    "ans=random.choice(li)\n",
    "print(ans)"
   ]
  },
  {
   "cell_type": "markdown",
   "metadata": {},
   "source": [
    "### 02) WAP to generate 3 random integers between 100 and 999 which is divisible by 5."
   ]
  },
  {
   "cell_type": "code",
   "execution_count": 14,
   "metadata": {},
   "outputs": [
    {
     "name": "stdout",
     "output_type": "stream",
     "text": [
      "180\n"
     ]
    }
   ],
   "source": [
    "print(random.randrange(100,999,5))"
   ]
  },
  {
   "cell_type": "markdown",
   "metadata": {},
   "source": [
    "### 03) WAP to generate 100 random lottery tickets and pick two lucky tickets from it as a winner."
   ]
  },
  {
   "cell_type": "code",
   "execution_count": 15,
   "metadata": {},
   "outputs": [
    {
     "name": "stdout",
     "output_type": "stream",
     "text": [
      "[23, 449]\n"
     ]
    }
   ],
   "source": [
    "li=[]\n",
    "\n",
    "for i in range(100):\n",
    "    li.append(random.randint(1,1000))\n",
    "print(random.sample(li,2))"
   ]
  },
  {
   "cell_type": "markdown",
   "metadata": {},
   "source": [
    "### 04) WAP to print current date and time in Python."
   ]
  },
  {
   "cell_type": "code",
   "execution_count": 1,
   "metadata": {},
   "outputs": [
    {
     "name": "stdout",
     "output_type": "stream",
     "text": [
      "2023-02-08 13:07:23.198464\n"
     ]
    }
   ],
   "source": [
    "import datetime\n",
    "\n",
    "x=datetime.datetime.now()\n",
    "print(x)"
   ]
  },
  {
   "cell_type": "markdown",
   "metadata": {},
   "source": [
    "### 05) Subtract a week (7 days) from a given date in Python."
   ]
  },
  {
   "cell_type": "code",
   "execution_count": 17,
   "metadata": {},
   "outputs": [
    {
     "name": "stdout",
     "output_type": "stream",
     "text": [
      "2023-02-01 13:23:38.037265\n"
     ]
    }
   ],
   "source": [
    "import random\n",
    "\n",
    "dt=datetime.datetime.now()-datetime.timedelta(weeks=1)\n",
    "print(dt)"
   ]
  },
  {
   "cell_type": "markdown",
   "metadata": {},
   "source": [
    "### 06) WAP to Calculate number of days between two given dates."
   ]
  },
  {
   "cell_type": "code",
   "execution_count": 20,
   "metadata": {},
   "outputs": [
    {
     "name": "stdout",
     "output_type": "stream",
     "text": [
      "3\n"
     ]
    }
   ],
   "source": [
    "dt1=datetime.datetime.now()\n",
    "dt2=dt1-datetime.timedelta(days=3)\n",
    "print(dt1.day-dt2.day)"
   ]
  },
  {
   "cell_type": "markdown",
   "metadata": {},
   "source": [
    "### 07) WAP to Find the day of the week of a given date."
   ]
  },
  {
   "cell_type": "code",
   "execution_count": 22,
   "metadata": {},
   "outputs": [
    {
     "name": "stdout",
     "output_type": "stream",
     "text": [
      "Wednesday\n",
      "Wed\n"
     ]
    }
   ],
   "source": [
    "dt1=datetime.datetime.now()\n",
    "print(dt1.strftime(\"%A\"))\n",
    "print(dt1.strftime(\"%a\"))"
   ]
  }
 ],
 "metadata": {
  "kernelspec": {
   "display_name": "Python 3 (ipykernel)",
   "language": "python",
   "name": "python3"
  },
  "language_info": {
   "codemirror_mode": {
    "name": "ipython",
    "version": 3
   },
   "file_extension": ".py",
   "mimetype": "text/x-python",
   "name": "python",
   "nbconvert_exporter": "python",
   "pygments_lexer": "ipython3",
   "version": "3.9.13"
  }
 },
 "nbformat": 4,
 "nbformat_minor": 4
}
