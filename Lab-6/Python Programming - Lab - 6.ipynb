{
 "cells": [
  {
   "cell_type": "markdown",
   "metadata": {},
   "source": [
    "<a href='https://www.darshan.ac.in/'> <img src='https://www.darshan.ac.in/Content/media/DU_Logo.svg' width=\"250\" height=\"300\"/></a>\n",
    "<pre>\n",
    "<center><b><h1>Python Programming - 2101CS405</b></center>\n",
    "<center><b><h1>Lab - 6</b></center>    \n",
    "<pre>"
   ]
  },
  {
   "cell_type": "markdown",
   "metadata": {},
   "source": [
    "# Tuples, dictionary, set"
   ]
  },
  {
   "cell_type": "markdown",
   "metadata": {},
   "source": [
    "# A"
   ]
  },
  {
   "cell_type": "markdown",
   "metadata": {},
   "source": [
    "### 01) WAP to sort python dictionary by key or value."
   ]
  },
  {
   "cell_type": "code",
   "execution_count": 11,
   "metadata": {},
   "outputs": [
    {
     "name": "stdout",
     "output_type": "stream",
     "text": [
      "{'a': 12, 'b': 10, 'j': 20, 'm': 18}\n",
      "{'b': 10, 'a': 12, 'm': 18, 'j': 20}\n"
     ]
    }
   ],
   "source": [
    "dict1={\"b\":10,\"j\":20,\"m\":18,\"a\":12}\n",
    "#sort by key-->x[0] means list of keys\n",
    "sorted_dict1=dict(sorted(dict1.items(),key=lambda x : x[0]))\n",
    "#sort by value-->x[1] means list of values\n",
    "sorted_dict2=dict(sorted(dict1.items(),key=lambda x : x[1]))\n",
    "print(sorted_dict1)\n",
    "print(sorted_dict2)"
   ]
  },
  {
   "cell_type": "markdown",
   "metadata": {},
   "source": [
    "### 02) WAP to merge two dictionaries given by user."
   ]
  },
  {
   "cell_type": "code",
   "execution_count": 13,
   "metadata": {},
   "outputs": [
    {
     "name": "stdout",
     "output_type": "stream",
     "text": [
      "Enter the number of elements in dictionary12\n",
      "Enter Name of studentsa\n",
      "Enter Marks of students24\n",
      "Enter Name of studentsb\n",
      "Enter Marks of students26\n",
      "Enter the number of elements in dictionary22\n",
      "Enter Name of studentsx\n",
      "Enter Marks of students27\n",
      "Enter Name of studentsy\n",
      "Enter Marks of students29\n",
      "{'a': 24, 'b': 26}\n",
      "{'x': 27, 'y': 29}\n",
      "{'a': 24, 'b': 26, 'x': 27, 'y': 29}\n"
     ]
    }
   ],
   "source": [
    "dict1={}\n",
    "dict2={}\n",
    "\n",
    "size =int(input(\"Enter the number of elements in dictionary1\"))\n",
    "for i in range(size):\n",
    "    key_name=input(\"Enter Name of students\")\n",
    "    value_marks=int(input(\"Enter Marks of students\"))\n",
    "    dict1[key_name]=value_marks\n",
    "    \n",
    "size1 =int(input(\"Enter the number of elements in dictionary2\"))\n",
    "for i in range(size1):\n",
    "    key_name1=input(\"Enter Name of students\")\n",
    "    value_marks1=int(input(\"Enter Marks of students\"))\n",
    "    dict2[key_name1]=value_marks1\n",
    "    \n",
    "print(f\"{dict1}\\n{dict2}\")\n",
    "print(dict1 | dict2)"
   ]
  },
  {
   "cell_type": "markdown",
   "metadata": {},
   "source": [
    "### 03) WAP to find tuples that have all elements divisible by K from a list of tuples."
   ]
  },
  {
   "cell_type": "code",
   "execution_count": null,
   "metadata": {},
   "outputs": [],
   "source": []
  },
  {
   "cell_type": "markdown",
   "metadata": {},
   "source": [
    "### 04) WAP to find Tuples with positive elements in List of tuples."
   ]
  },
  {
   "cell_type": "code",
   "execution_count": 15,
   "metadata": {},
   "outputs": [
    {
     "name": "stdout",
     "output_type": "stream",
     "text": [
      "(1, 2, 3)\n"
     ]
    }
   ],
   "source": [
    "li = [(-10,5,20),(-10,20,30),(1,2,3)]\n",
    "for i in li:\n",
    "    count = 0\n",
    "    temp = 0\n",
    "    for j in i:\n",
    "        temp+=1\n",
    "        if j >= 0:\n",
    "            count +=1\n",
    "    if temp==count:\n",
    "        print(i)"
   ]
  },
  {
   "cell_type": "markdown",
   "metadata": {},
   "source": [
    "### 05) WAP which perform union of two sets."
   ]
  },
  {
   "cell_type": "code",
   "execution_count": 14,
   "metadata": {},
   "outputs": [
    {
     "data": {
      "text/plain": [
       "{0, 1, 2, 3, 4, 5, 6, 7, 8, 9}"
      ]
     },
     "execution_count": 14,
     "metadata": {},
     "output_type": "execute_result"
    }
   ],
   "source": [
    "set1 = {0,1,2,3,4}\n",
    "set2 = {5,6,7,8,9}\n",
    "\n",
    "set1.union(set2)"
   ]
  },
  {
   "cell_type": "markdown",
   "metadata": {},
   "source": [
    "# B"
   ]
  },
  {
   "cell_type": "markdown",
   "metadata": {},
   "source": [
    "### 01) WAP to convert binary tuple into integer."
   ]
  },
  {
   "cell_type": "code",
   "execution_count": 19,
   "metadata": {},
   "outputs": [
    {
     "name": "stdout",
     "output_type": "stream",
     "text": [
      "('1', '0', '1', '0')\n",
      "10\n"
     ]
    }
   ],
   "source": [
    "tup = ('1','0','1','0')\n",
    "print(tup)\n",
    "tup_str = str(tup)\n",
    "a= \"\".join(tup)\n",
    "# print(a)\n",
    "x= int(a,2)\n",
    "print(x)\n"
   ]
  },
  {
   "cell_type": "markdown",
   "metadata": {},
   "source": [
    "### 02) WAP to count frequency in list by dictionary."
   ]
  },
  {
   "cell_type": "code",
   "execution_count": 20,
   "metadata": {},
   "outputs": [
    {
     "data": {
      "text/plain": [
       "{10: 3, 20: 2, 30: 1}"
      ]
     },
     "execution_count": 20,
     "metadata": {},
     "output_type": "execute_result"
    }
   ],
   "source": [
    "frequency = {}\n",
    "list1 = [10,10,10,20,20,30]\n",
    "for i in list1:\n",
    "    if i in frequency:\n",
    "        frequency[i]+=1\n",
    "    else:\n",
    "        frequency[i]=1\n",
    "    \n",
    "frequency"
   ]
  },
  {
   "cell_type": "markdown",
   "metadata": {},
   "source": [
    "### 03) WAP to remove all the duplicate words from the list using dictionary."
   ]
  },
  {
   "cell_type": "code",
   "execution_count": 28,
   "metadata": {},
   "outputs": [
    {
     "name": "stdout",
     "output_type": "stream",
     "text": [
      "Python is good and Java also\n"
     ]
    }
   ],
   "source": [
    "string = \"Python is good and Java is also good\"\n",
    "words_str = string.split()\n",
    "result = []\n",
    "for word in words_str:\n",
    "    # store unique words in list\n",
    "    if (string.count(word)>=1 and (word not in result)):\n",
    "        result.append(word)\n",
    "print(' '.join(result))"
   ]
  }
 ],
 "metadata": {
  "kernelspec": {
   "display_name": "Python 3 (ipykernel)",
   "language": "python",
   "name": "python3"
  },
  "language_info": {
   "codemirror_mode": {
    "name": "ipython",
    "version": 3
   },
   "file_extension": ".py",
   "mimetype": "text/x-python",
   "name": "python",
   "nbconvert_exporter": "python",
   "pygments_lexer": "ipython3",
   "version": "3.9.13"
  }
 },
 "nbformat": 4,
 "nbformat_minor": 4
}
